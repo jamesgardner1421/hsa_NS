{
 "cells": [
  {
   "cell_type": "code",
   "execution_count": 1,
   "metadata": {
    "code_folding": []
   },
   "outputs": [],
   "source": [
    "# initial params/setting up empty boxes\n",
    "import hs_alkane.alkane as mdl\n",
    "import numpy as np\n",
    "import sys\n",
    "import os\n",
    "import copy\n",
    "\n",
    "\n",
    "# For progress bar\n",
    "from ipywidgets import IntProgress\n",
    "from IPython.display import display\n",
    "\n",
    "#visualise data\n",
    "import matplotlib.pyplot as plt\n",
    "\n",
    "#time\n",
    "import time\n",
    "start_time = time.time()\n",
    "\n",
    "\n",
    "\n",
    "aspect_ratio_limit = 0.8\n",
    "angle_limit_deg = 55\n",
    "angle_limit_rad = angle_limit_deg*np.pi/180\n",
    "\n",
    "\n",
    "\n",
    "ns_iterations = int(1e3)\n",
    "walk_length = 80\n",
    "nwalkers = 10\n",
    "\n",
    "\n",
    "active_box = nwalkers+1\n",
    "volume_box = nwalkers+2\n",
    "nchains = 32\n",
    "nbeads = 2\n",
    "max_vol_per_atom = 15\n",
    "mdl.box_set_num_boxes(nwalkers+2)#nwalkers+2 if debugging\n",
    "mdl.box_initialise()\n",
    "mdl.box_set_pbc(1)\n",
    "mdl.alkane_set_nchains(nchains) \n",
    "mdl.alkane_set_nbeads(nbeads)\n",
    "mdl.alkane_set_bondlength(1.0)\n",
    "mdl.alkane_initialise()           \n",
    "mdl.box_set_isotropic(1)\n",
    "mdl.box_set_bypass_link_cells(1) # Bypass use of link cell algorithm for neighbour finding\n",
    "mdl.box_set_use_verlet_list(0)   # Don't use Verlet lists either since CBMC moves quickly invalidate these\n",
    "\n",
    "\n",
    "#file handling\n",
    "file_prefix = f\"NS_{nchains}_{nbeads}mer.{nwalkers}.{walk_length}\"\n",
    "i_n = 1\n",
    "while os.path.exists(f\"{file_prefix}.{i_n}.extxyz\"):\n",
    "    i_n += 1\n",
    "\n",
    "traj_filename = f\"{file_prefix}.{i_n}.extxyz\"\n",
    "energies_filename = f\"{file_prefix}.{i_n}.energies\"\n",
    "\n",
    "\n",
    "\n",
    "#random seeds\n",
    "np.random.seed(1)\n",
    "mdl.random_set_random_seed(1)\n",
    "\n",
    "cell_matrix = 0.999*np.eye(3)*np.cbrt(nbeads*nchains*max_vol_per_atom)#*np.random.uniform(0,1)\n",
    "for ibox in range(1,nwalkers+1):\n",
    "    mdl.box_set_cell(ibox,cell_matrix)\n",
    "\n",
    "\n",
    "    "
   ]
  },
  {
   "cell_type": "code",
   "execution_count": 2,
   "metadata": {
    "code_folding": [
     4
    ]
   },
   "outputs": [],
   "source": [
    "from ase import Atoms\n",
    "from ase.visualize import view\n",
    "import ase\n",
    "\n",
    "def mk_ase_config(ibox, Nbeads, Nchains):\n",
    "    'Uses the current state of the alkane model to construct an ASE atoms object'\n",
    "    \n",
    "    # Create and populate ASE object\n",
    "    model_positions = np.empty([Nchains*Nbeads, 3])\n",
    "    cell_vectors = mdl.box_get_cell(ibox)\n",
    "   \n",
    "    for ichain in range(0, Nchains):\n",
    "        model_positions[Nbeads*ichain:Nbeads*ichain+Nbeads] = mdl.alkane_get_chain(ichain+1, ibox)\n",
    "    \n",
    "    confstring = \"C\"+str(Nbeads*Nchains)\n",
    "    \n",
    "    box_config = Atoms(confstring, positions=model_positions*(1.5/0.4), pbc=True, cell=cell_vectors*(1.5/0.4))\n",
    "\n",
    "\n",
    "    return box_config  # Returns ASE atom object"
   ]
  },
  {
   "cell_type": "code",
   "execution_count": 3,
   "metadata": {},
   "outputs": [],
   "source": [
    "def nan_check(ibox):\n",
    "    for ichain in range(1,nchains+1):\n",
    "        if np.isnan(mdl.alkane_get_chain(ichain,ibox)).any():\n",
    "            print(f\"NAN PRESENT IN {ibox}\")\n",
    "            return True\n",
    "    "
   ]
  },
  {
   "cell_type": "code",
   "execution_count": 4,
   "metadata": {
    "code_folding": [
     0,
     1
    ]
   },
   "outputs": [],
   "source": [
    "def vis_chains(vis_config):\n",
    "    '''Takes an ASE atoms object or list thereof and creates a customised ngl viewer \n",
    "       with appropriate settings for our bulk alkane chain models'''\n",
    "\n",
    "    met = 0.35\n",
    "    rad = 1.0\n",
    "    \n",
    "    colours = ['#DDDDDD']#['#FF1111','#FFAAAA', '#DDDDDD', '#1111FF', '#AAAAFF']\n",
    "    ncols = len(colours)\n",
    "    \n",
    "    try:\n",
    "            \n",
    "        vis_config.wrap()\n",
    "    except:\n",
    "        pass\n",
    "    \n",
    "    sel=list()\n",
    "    for icol in range(ncols):\n",
    "        sel.append(list())\n",
    "    \n",
    "    # Create lists for each colour\n",
    "    for ichain in range(0, nchains):\n",
    "        icol = ichain%ncols\n",
    "        for ibead in range(nbeads):\n",
    "            iatom = ichain*nbeads + ibead\n",
    "            sel[icol].append(iatom)\n",
    "            \n",
    "    v = view(vis_config, viewer='ngl')                   \n",
    "    v.view.clear_representations()\n",
    "    v.view.add_representation('unitcell', color='#000000')\n",
    "    \n",
    "    for icol in range(ncols):\n",
    "        v.view.add_representation('ball+stick', selection=sel[icol], color=colours[icol], radius=rad, metalness=met)\n",
    "\n",
    "    return v"
   ]
  },
  {
   "cell_type": "code",
   "execution_count": 5,
   "metadata": {
    "code_folding": [
     0
    ]
   },
   "outputs": [],
   "source": [
    "def min_aspect_ratio(ibox):\n",
    "    vol = mdl.box_compute_volume(ibox)\n",
    "    cell = mdl.box_get_cell(ibox).copy()\n",
    "    test_dist = []\n",
    "    #returns the shortest distance between two parallel faces, scaled such that the cell has a volume of 1\n",
    "    min_aspect_ratio = sys.float_info.max\n",
    "    for i in range(3):\n",
    "        vi = cell[i,:]\n",
    "        vnorm_hat = np.cross(cell[(i+1)%3,:],cell[(i+2)%3,:])\n",
    "        vnorm_hat = vnorm_hat/(np.sqrt(np.dot(vnorm_hat,vnorm_hat)))\n",
    "        min_aspect_ratio = min(min_aspect_ratio, abs(np.dot(vnorm_hat,vi)))\n",
    "        test_dist.append(abs(np.dot(vnorm_hat,vi)))\n",
    "\n",
    "    return min_aspect_ratio/np.cbrt(vol)\n"
   ]
  },
  {
   "cell_type": "code",
   "execution_count": 6,
   "metadata": {
    "code_folding": [
     0
    ]
   },
   "outputs": [],
   "source": [
    "def min_angle(ibox):\n",
    "    cell = mdl.box_get_cell(ibox).copy()\n",
    "    min_angle = sys.float_info.max\n",
    "    for i in range(3):\n",
    "        vc1 = cell[(i+1)%3,:]\n",
    "        vc2 = cell[(i+2)%3,:]\n",
    "        dot_prod = np.dot(vc1,vc2)/np.sqrt((np.dot(vc1,vc1))*(np.dot(vc2,vc2)))\n",
    "        if dot_prod < 0:\n",
    "            dot_prod *= -1\n",
    "        vec_angle = np.arccos(dot_prod)\n",
    "        min_angle = min(min_angle,vec_angle)\n",
    "    return min_angle\n",
    "        "
   ]
  },
  {
   "cell_type": "code",
   "execution_count": 7,
   "metadata": {
    "code_folding": [
     0
    ]
   },
   "outputs": [],
   "source": [
    "def box_shear_step(ibox, step_size):\n",
    "    # pick random vector for shear direction\n",
    "    #np.random.seed(10)\n",
    "    rnd_vec_ind = np.random.randint(0, 3)\n",
    "    # turn other two into orthonormal pair\n",
    "    #should I have a pair or should I have a single vector.\n",
    "    other_vec_ind = list(range(3))\n",
    "    other_vec_ind.remove(rnd_vec_ind)\n",
    "    orig_cell = copy.deepcopy(mdl.box_get_cell(ibox))\n",
    "    orig_cell_copy = copy.deepcopy(orig_cell)\n",
    "\n",
    "    \n",
    "    v1 = orig_cell_copy[other_vec_ind[0],:]\n",
    "    v2 = orig_cell_copy[other_vec_ind[1],:]\n",
    "    \n",
    "    v1 /= np.sqrt(np.dot(v1,v1))\n",
    "    v2 -= v1*np.dot(v1,v2) \n",
    "    v2 /= np.sqrt(np.dot(v2,v2))\n",
    "\n",
    "    \n",
    "    # pick random magnitudes\n",
    "    rv1 = np.random.uniform(-step_size, step_size)\n",
    "    rv2 = np.random.uniform(-step_size, step_size)\n",
    "#     rv1 = 2\n",
    "#     rv2 = 0\n",
    "\n",
    "    # create new cell and transformation matrix (matrix is additive)\n",
    "    new_cell = orig_cell.copy()\n",
    "\n",
    "    new_cell[rnd_vec_ind,:] += rv1*v1 + rv2*v2\n",
    "\n",
    "    delta_H = new_cell - orig_cell\n",
    "    \n",
    "    #reject due to poor aspect ratio\n",
    "\n",
    "    \n",
    "\n",
    "    \n",
    "    mdl.alkane_change_box(ibox,delta_H)\n",
    "    #transform = np.dot(np.linalg.inv(orig_cell), new_cell)\n",
    "    if min_aspect_ratio(ibox) < aspect_ratio_limit:\n",
    "        boltz = 0\n",
    "    elif min_angle(ibox) < angle_limit_rad:\n",
    "        boltz = 0\n",
    "    elif mdl.alkane_check_chain_overlap(ibox):\n",
    "        boltz = 0   \n",
    "    else:\n",
    "        boltz = 1\n",
    "    \n",
    "    \n",
    "    #bake rejection  due to shape in here as it becomes easier to fit with the rest of the code\n",
    "    \n",
    "    \n",
    "    return boltz, delta_H"
   ]
  },
  {
   "cell_type": "code",
   "execution_count": 8,
   "metadata": {
    "code_folding": [
     0
    ]
   },
   "outputs": [],
   "source": [
    "def box_stretch_step(ibox, step_size):\n",
    "    cell = mdl.box_get_cell(ibox)\n",
    "    new_cell = cell.copy()\n",
    "    rnd_v1_ind = np.random.randint(0, 3)\n",
    "    rnd_v2_ind = np.random.randint(0, 3)\n",
    "    if rnd_v1_ind == rnd_v2_ind:\n",
    "        rnd_v2_ind = (rnd_v2_ind+1) % 3\n",
    "\n",
    "    rv = 1+np.random.uniform(-step_size, step_size)\n",
    "    #print(rv)\n",
    "    #rv = 1+0.5\n",
    "    #transform = np.eye(3)\n",
    "    new_cell[rnd_v1_ind,rnd_v1_ind] *= rv\n",
    "    new_cell[rnd_v2_ind,rnd_v2_ind] *= (1/rv)\n",
    "    \n",
    "    delta_H = new_cell - cell\n",
    "    print(delta_H)\n",
    "    \n",
    "\n",
    "    \n",
    "    mdl.alkane_change_box(ibox,delta_H)\n",
    "    #transform = np.dot(np.linalg.inv(orig_cell), new_cell)\n",
    "    if min_aspect_ratio(ibox) < aspect_ratio_limit:\n",
    "        boltz = 0\n",
    "    elif min_angle(ibox) < angle_limit_rad:\n",
    "        boltz = 0\n",
    "    elif mdl.alkane_check_chain_overlap(ibox):\n",
    "        boltz = 0   \n",
    "    else:\n",
    "        boltz = 1\n",
    "    \n",
    "    return boltz, delta_H"
   ]
  },
  {
   "cell_type": "code",
   "execution_count": 9,
   "metadata": {
    "code_folding": [
     0
    ]
   },
   "outputs": [],
   "source": [
    "def MC_run(sweeps, move_ratio, ibox, volume_limit = sys.float_info.max):\n",
    "        \n",
    "    moves_accepted = np.zeros(6)\n",
    "    moves_attempted = np.zeros(6)\n",
    "    nbeads = mdl.alkane_get_nbeads()\n",
    "    nchains = mdl.alkane_get_nchains()\n",
    "    isweeps = 0\n",
    "    pressure = 0\n",
    "    move_prob = np.cumsum(move_ratio)/np.sum(move_ratio)\n",
    "    while isweeps < sweeps:\n",
    "        imove=0\n",
    "        while imove< nchains+7:\n",
    "#             clone_walker(ibox,nwalkers+2)#backup box\n",
    "            ichain = np.random.randint(0, high=nchains) # picks a chain at random\n",
    "            #should it be from 0 to nchains?\n",
    "            current_chain = mdl.alkane_get_chain(ichain+1, ibox)\n",
    "            backup_chain = copy.deepcopy(current_chain)\n",
    "            xi = np.random.random()\n",
    "            if xi < move_prob[ivol]:\n",
    "                # Attempt a volume move\n",
    "                itype = ivol\n",
    "                clone_walker(ibox, volume_box) #backing up the volume\n",
    "                boltz = mdl.alkane_box_resize(pressure, ibox, 0)\n",
    "                moves_attempted[itype] += 1\n",
    "            elif xi < move_prob[itrans]:\n",
    "                # Attempt a translation move\n",
    "                itype = itrans\n",
    "                boltz = mdl.alkane_translate_chain(ichain+1, ibox)\n",
    "                moves_attempted[itrans] += 1\n",
    "            elif xi < move_prob[irot]:\n",
    "                # Attempt a rotation move\n",
    "                itype = irot\n",
    "                boltz, quat = mdl.alkane_rotate_chain(ichain+1, ibox, 0)\n",
    "                moves_attempted[itype] += 1\n",
    "            elif xi < move_prob[idih]:\n",
    "                # Attempt a dihedral angle move\n",
    "                itype = idih\n",
    "                boltz, bead1, angle = mdl.alkane_bond_rotate(ichain+1, ibox, 1)\n",
    "                moves_attempted[itype] += 1\n",
    "            elif xi < move_prob[ishear]:\n",
    "                # Attempt a shear move\n",
    "                itype = ishear\n",
    "                boltz, delta_H = box_shear_step(ibox, shear_step_max)\n",
    "                moves_attempted[itype] += 1\n",
    "            else:\n",
    "                # Attempt a stretch move\n",
    "                itype = istr\n",
    "                boltz, delta_H = box_shear_step(ibox, shear_step_max)\n",
    "                moves_attempted[itype] += 1\n",
    "\n",
    "#             if (np.random.random() < boltz):\n",
    "#                 #accept the move\n",
    "#                 moves_accepted[itype]+=1\n",
    "\n",
    "#             else:\n",
    "                \n",
    "#                 # Reject move\n",
    "#                 if (itype!=ivol):\n",
    "#                     # Restore old chain if single chain move\n",
    "#                     for ibead in range(nbeads):\n",
    "#                         current_chain[ibead] = backup_chain[ibead]\n",
    "#                 else:\n",
    "#                     # Reset the box change - special fucntion for this.\n",
    "#                     dumboltz = mdl.alkane_box_resize(pressure, ibox, 1)\n",
    "                    \n",
    "            if (itype==ivol):\n",
    "                new_volume = mdl.box_compute_volume(ibox)\n",
    "                if (np.random.random() < boltz) and (new_volume - volume_limit) < sys.float_info.epsilon:\n",
    "                    moves_accepted[itype]+=1\n",
    "#                     if nan_check(ibox):\n",
    "#                         print(f\"NAN accepted as {move_types[itype]} move\")\n",
    "#                         sys.exit()\n",
    "                else:\n",
    "                    #revert volume move\n",
    "                    clone_walker(volume_box, ibox)\n",
    "                    #dumboltz = mdl.alkane_box_resize(pressure, ibox, 1)\n",
    "#                     if nan_check(ibox):\n",
    "#                         print(f\"NAN rejected trying to revert {move_types[itype]} move\")\n",
    "#                         sys.exit()\n",
    "            \n",
    "            elif(itype == ishear or itype == istr):\n",
    "                if boltz:\n",
    "                    moves_accepted[itype]+=1\n",
    "#                     if nan_check(ibox):\n",
    "#                         print(f\"NAN accepted as {move_types[itype]} move\")\n",
    "#                         sys.exit()\n",
    "                \n",
    "                else:\n",
    "                    neg_delta_H = -1.0*delta_H\n",
    "                    #print(neg_delta_H)\n",
    "                    mdl.alkane_change_box(ibox, neg_delta_H)\n",
    "#                     if nan_check(ibox):\n",
    "#                         print(f\"NAN rejected trying to revert {move_types[itype]} move\")\n",
    "#                         sys.exit()\n",
    "                \n",
    "\n",
    "                \n",
    "            else:\n",
    "                if (np.random.random() < boltz):\n",
    "                #accept the move\n",
    "                    moves_accepted[itype]+=1\n",
    "#                     if nan_check(ibox):\n",
    "#                         print(f\"NAN accepted as {move_types[itype]} move\")\n",
    "#                         print(\"current_chain\", \"backup chain\")\n",
    "#                         print(current_chain, backup_chain)\n",
    "#                         sys.exit()\n",
    "\n",
    "                else:\n",
    "                    #reject the move\n",
    "                    for ibead in range(nbeads):\n",
    "                        current_chain[ibead] = backup_chain[ibead]\n",
    "#                     if nan_check(ibox):\n",
    "#                         print(f\"NAN rejected trying to revert {move_types[itype]} move\")\n",
    "#                         print(\"current_chain\", \"backup chain\")\n",
    "#                         print(current_chain, backup_chain)\n",
    "#                         sys.exit()\n",
    "            imove += 1\n",
    "        isweeps +=1\n",
    "    moves_attempted = np.where(moves_attempted == 0, 1, moves_attempted)\n",
    "    moves_acceptance_rate = moves_accepted/moves_attempted\n",
    "\n",
    "    return mdl.box_compute_volume(ibox), moves_acceptance_rate"
   ]
  },
  {
   "cell_type": "code",
   "execution_count": 10,
   "metadata": {
    "code_folding": []
   },
   "outputs": [],
   "source": [
    "#populating boxes\n",
    "ncopy = nchains\n",
    "for ibox in range(1,nwalkers+1):\n",
    "#     for ichain in range(1,ncopy+1):\n",
    "#         rb_factor = 0\n",
    "#         mdl.alkane_set_nchains(ichain)\n",
    "#         overlap_flag = 1\n",
    "#         while overlap_flag != 0:\n",
    "#             rb_factor, ifail = mdl.alkane_grow_chain(ichain,ibox,1)         \n",
    "# #             if ifail != 0:\n",
    "# #                 rb_factor = 0\n",
    "#             overlap_flag = mdl.alkane_check_chain_overlap(ibox)\n",
    "    for ichain in range(ncopy):\n",
    "        mdl.alkane_set_nchains(ichain+1)  # Only calculate using this and previous chains\n",
    "        rb_factor = 0.0\n",
    "        while rb_factor < 0.001:\n",
    "            rb_factor, ifail = mdl.alkane_grow_chain(ichain+1, ibox,1)\n",
    "\n",
    "\n",
    "\n",
    "            if ifail!=0:\n",
    "                rb_factor = 0.0\n"
   ]
  },
  {
   "cell_type": "code",
   "execution_count": 11,
   "metadata": {},
   "outputs": [
    {
     "name": "stdout",
     "output_type": "stream",
     "text": [
      "(array([], dtype=int64),)\n"
     ]
    }
   ],
   "source": [
    "#overlap check\n",
    "overlap_check = np.zeros(nwalkers)\n",
    "for ibox in range(1,nwalkers+1):\n",
    "    overlap_check[mdl.alkane_check_chain_overlap(ibox)]\n",
    "print(np.where(overlap_check!=0))"
   ]
  },
  {
   "cell_type": "code",
   "execution_count": 12,
   "metadata": {
    "code_folding": []
   },
   "outputs": [
    {
     "data": {
      "application/vnd.jupyter.widget-view+json": {
       "model_id": "baee1327587e49e79af2b113ade4cfdf",
       "version_major": 2,
       "version_minor": 0
      },
      "text/plain": []
     },
     "metadata": {},
     "output_type": "display_data"
    },
    {
     "data": {
      "application/vnd.jupyter.widget-view+json": {
       "model_id": "b1ee8f73b8f140369b4e569d6a6eb85c",
       "version_major": 2,
       "version_minor": 0
      },
      "text/plain": [
       "HBox(children=(NGLWidget(), VBox(children=(Dropdown(description='Show', options=('All', 'C'), value='All'), Dr…"
      ]
     },
     "metadata": {},
     "output_type": "display_data"
    }
   ],
   "source": [
    "#visualisation\n",
    "atoms = mk_ase_config(1, nbeads, nchains)\n",
    "#atoms = ase.io.read(\"test.traj\")\n",
    "vis_chains(atoms)\n"
   ]
  },
  {
   "cell_type": "code",
   "execution_count": 13,
   "metadata": {
    "code_folding": []
   },
   "outputs": [],
   "source": [
    "#setting step sizes\n",
    "mdl.alkane_set_dr_max(0.65)\n",
    "mdl.alkane_set_dt_max(0.43)\n",
    "mdl.alkane_set_dh_max(0.4)\n",
    "mdl.alkane_set_dv_max(0.5)\n",
    "shear_step_max = 0.5\n",
    "stretch_step_max = 0.5\n",
    "\n",
    "min_dr = 1e-10\n",
    "min_dt = 1e-10\n",
    "min_dh = 1e-10\n",
    "min_dv = 1e-10\n",
    "min_dshear = 1e-5\n",
    "min_dstretch = 1e-5"
   ]
  },
  {
   "cell_type": "code",
   "execution_count": 14,
   "metadata": {
    "code_folding": []
   },
   "outputs": [],
   "source": [
    "#setting params for MC_run\n",
    "move_types = ['box','translate', 'rotate', 'dihedral', 'shear', 'stretch']\n",
    "ivol = 0; itrans = 1; irot = 2; idih = 3; ishear = 4; istr = 5\n",
    "move_ratio = np.zeros(6)\n",
    "move_ratio[ivol] = 10\n",
    "move_ratio[itrans] = 3.0*nchains\n",
    "#move_ratio[irot] = 2.0*nchains\n",
    "#move_ratio[idih] = 1.0*nchains\n",
    "move_ratio[ishear] = 3\n",
    "move_ratio[istr] = 3\n",
    "#moves_prob = np.cumsum(moves_ratio)/np.sum(moves_ratio)\n",
    "walk_length = 20\n"
   ]
  },
  {
   "cell_type": "code",
   "execution_count": 15,
   "metadata": {
    "code_folding": []
   },
   "outputs": [],
   "source": [
    "def clone_walker(ibox_original,ibox_clone):\n",
    "    cell = mdl.box_get_cell(ibox_original)\n",
    "    mdl.box_set_cell(ibox_clone,cell)\n",
    "    for ichain in range(1,nchains+1):\n",
    "        original_chain = mdl.alkane_get_chain(ichain,ibox_original)\n",
    "        original_chain_copy = copy.deepcopy(original_chain)\n",
    "        clone_chain = mdl.alkane_get_chain(ichain,ibox_clone)\n",
    "        for i in range(nbeads):\n",
    "#             if np.isnan(original_chain_copy).any():\n",
    "#                 print(\"original\",\"clone\")\n",
    "#                 print(ibox_original, ibox_clone)\n",
    "                \n",
    "#                 print(\"clone_chain\")\n",
    "#                 print(clone_chain)\n",
    "                \n",
    "#                 print(\"original_chain_copy\")\n",
    "#                 print(original_chain_copy)\n",
    "                \n",
    "#                 print(\"original_chain\")\n",
    "#                 print(original_chain)\n",
    "                \n",
    "#                 sys.exit()\n",
    "            clone_chain[i][:] = original_chain_copy[i][:]\n",
    "            "
   ]
  },
  {
   "cell_type": "code",
   "execution_count": 16,
   "metadata": {
    "code_folding": []
   },
   "outputs": [],
   "source": [
    "#constructing dictionaries which contain initial volumes\n",
    "volumes = {}\n",
    "start_volumes = []\n",
    "for ibox in range(1,nwalkers+1):\n",
    "    volumes[ibox], rate = MC_run(walk_length, move_ratio, ibox)\n",
    "    start_volumes.append(volumes[ibox])\n"
   ]
  },
  {
   "cell_type": "code",
   "execution_count": 17,
   "metadata": {
    "code_folding": []
   },
   "outputs": [
    {
     "name": "stdout",
     "output_type": "stream",
     "text": [
      "(array([], dtype=int64),)\n"
     ]
    }
   ],
   "source": [
    "#overlap check\n",
    "overlap_check = np.zeros(nwalkers)\n",
    "for ibox in range(1,nwalkers+1):\n",
    "    overlap_check[mdl.alkane_check_chain_overlap(ibox)]\n",
    "print(np.where(overlap_check!=0))"
   ]
  },
  {
   "cell_type": "code",
   "execution_count": 18,
   "metadata": {
    "code_folding": [
     0
    ]
   },
   "outputs": [
    {
     "data": {
      "application/vnd.jupyter.widget-view+json": {
       "model_id": "86d5846b33714be08481580e49e97089",
       "version_major": 2,
       "version_minor": 0
      },
      "text/plain": [
       "HBox(children=(NGLWidget(), VBox(children=(Dropdown(description='Show', options=('All', 'C'), value='All'), Dr…"
      ]
     },
     "metadata": {},
     "output_type": "display_data"
    }
   ],
   "source": [
    "#visualisation check\n",
    "atoms = mk_ase_config(1, nbeads, nchains)\n",
    "vis_chains(atoms)\n",
    "\n",
    "#view(atoms, viewer = 'nglview')"
   ]
  },
  {
   "cell_type": "code",
   "execution_count": 19,
   "metadata": {
    "code_folding": []
   },
   "outputs": [],
   "source": [
    "def adjust_dv(ibox,active_box, lower_bound,upper_bound, volume_limit):\n",
    "    equil_factor = 2\n",
    "    sweeps = 20\n",
    "    move_ratio = [1,0,0,0,0,0]\n",
    "    clone_walker(ibox,active_box)\n",
    "    vol,acceptance_rate = MC_run(sweeps, move_ratio, active_box, volume_limit)\n",
    "    \n",
    "    r = acceptance_rate[ivol]\n",
    "    \n",
    "    if r < lower_bound:\n",
    "        mdl.alkane_set_dv_max(max(mdl.alkane_get_dv_max()/equil_factor, min_dv))\n",
    "    elif r > upper_bound:\n",
    "        mdl.alkane_set_dv_max(mdl.alkane_get_dv_max()*equil_factor)\n",
    "    return r\n"
   ]
  },
  {
   "cell_type": "code",
   "execution_count": 20,
   "metadata": {
    "code_folding": []
   },
   "outputs": [],
   "source": [
    "def adjust_dshear(ibox,active_box, lower_bound,upper_bound):\n",
    "    equil_factor = 2\n",
    "    sweeps = 20\n",
    "    move_ratio = [0,0,0,0,1,0]\n",
    "    clone_walker(ibox,active_box)\n",
    "    vol,acceptance_rate = MC_run(sweeps, move_ratio, active_box)\n",
    "    \n",
    "    r = acceptance_rate[ishear]\n",
    "    \n",
    "    global shear_step_max\n",
    "    \n",
    "    if r < lower_bound:\n",
    "        shear_step_max = max(shear_step_max*(1/equil_factor), min_dshear)\n",
    "    elif r > upper_bound:\n",
    "        shear_step_max = shear_step_max*equil_factor\n",
    "    return r\n",
    "\n",
    "    "
   ]
  },
  {
   "cell_type": "code",
   "execution_count": 21,
   "metadata": {
    "code_folding": [
     0
    ]
   },
   "outputs": [],
   "source": [
    "def adjust_dstretch(ibox,active_box, lower_bound,upper_bound):\n",
    "    equil_factor = 2\n",
    "    sweeps = 20\n",
    "    move_ratio = [0,0,0,0,0,1]\n",
    "    clone_walker(ibox,active_box)\n",
    "    vol,acceptance_rate = MC_run(sweeps, move_ratio, active_box)\n",
    "    \n",
    "    r = acceptance_rate[istr]\n",
    "    \n",
    "    global stretch_step_max\n",
    "    \n",
    "    if r < lower_bound:\n",
    "        stretch_step_max = max(stretch_step_max*(1.0/equil_factor),min_dstretch)\n",
    "    elif r > upper_bound:\n",
    "        stretch_step_max = stretch_step_max*equil_factor\n",
    "    return r\n",
    "\n",
    "    "
   ]
  },
  {
   "cell_type": "code",
   "execution_count": 22,
   "metadata": {
    "code_folding": []
   },
   "outputs": [],
   "source": [
    "def adjust_dr(ibox,active_box, lower_bound,upper_bound):\n",
    "    equil_factor = 2\n",
    "    sweeps = 20\n",
    "    move_ratio = [0,1,0,0,0,0]\n",
    "    clone_walker(ibox,active_box)\n",
    "    vol,acceptance_rate = MC_run(sweeps, move_ratio, active_box)\n",
    "    \n",
    "    r = acceptance_rate[itrans]\n",
    "    \n",
    "    if r < lower_bound:\n",
    "        mdl.alkane_set_dr_max(max(mdl.alkane_get_dr_max()/equil_factor,min_dr))\n",
    "    elif r > upper_bound:\n",
    "        mdl.alkane_set_dr_max(min(mdl.alkane_get_dr_max()*equil_factor, 10))\n",
    "    return r\n",
    "\n",
    "    "
   ]
  },
  {
   "cell_type": "code",
   "execution_count": 23,
   "metadata": {
    "code_folding": [
     0
    ]
   },
   "outputs": [],
   "source": [
    "def adjust_dt(ibox,active_box, lower_bound,upper_bound):\n",
    "    equil_factor = 2\n",
    "    sweeps = 20\n",
    "    move_ratio = [0,0,1,0,0,0]\n",
    "    clone_walker(ibox,active_box)\n",
    "    vol,acceptance_rate = MC_run(sweeps, move_ratio, active_box)\n",
    "    \n",
    "    r = acceptance_rate[irot]\n",
    "    \n",
    "    if r < lower_bound:\n",
    "        mdl.alkane_set_dt_max(max(mdl.alkane_get_dt_max()/equil_factor, min_dt))\n",
    "    elif r > upper_bound:\n",
    "        mdl.alkane_set_dt_max(mdl.alkane_get_dt_max()*equil_factor)\n",
    "    return r\n",
    "\n",
    "    "
   ]
  },
  {
   "cell_type": "code",
   "execution_count": 24,
   "metadata": {
    "code_folding": [
     0
    ]
   },
   "outputs": [],
   "source": [
    "def adjust_dh(ibox,active_box, lower_bound,upper_bound):\n",
    "    equil_factor = 2\n",
    "    sweeps = 20\n",
    "    move_ratio = [0,0,0,1,0,0]\n",
    "    clone_walker(ibox,active_box)\n",
    "    vol,acceptance_rate = MC_run(sweeps, move_ratio, active_box)\n",
    "    \n",
    "    r = acceptance_rate[idih]\n",
    "    \n",
    "    if r < lower_bound:\n",
    "        mdl.alkane_set_dh_max(max(mdl.alkane_get_dh_max()/equil_factor,min_dh))\n",
    "    elif r > upper_bound:\n",
    "        mdl.alkane_set_dh_max(mdl.alkane_get_dh_max()*equil_factor)\n",
    "    return r\n",
    " \n",
    "    "
   ]
  },
  {
   "cell_type": "code",
   "execution_count": 25,
   "metadata": {
    "code_folding": []
   },
   "outputs": [
    {
     "data": {
      "application/vnd.jupyter.widget-view+json": {
       "model_id": "d53d98128bd24ccfa7c8abc5fb86026a",
       "version_major": 2,
       "version_minor": 0
      },
      "text/plain": [
       "IntProgress(value=0, max=1000)"
      ]
     },
     "metadata": {},
     "output_type": "display_data"
    },
    {
     "name": "stdout",
     "output_type": "stream",
     "text": [
      "0 960.2038395943907 0.9961538461538462\n",
      "--- 189.00194716453552 seconds ---\n"
     ]
    }
   ],
   "source": [
    "# main driver code\n",
    "\n",
    "\n",
    "mc_adjust_interval = nwalkers//2 #for adjusting step sizes\n",
    "low_acc_rate = 0.2\n",
    "high_acc_rate = 0.5 \n",
    "\n",
    "snapshots = 1000\n",
    "\n",
    "vis_interval = ns_iterations//snapshots\n",
    "\n",
    "\n",
    "\n",
    "energies_file = open(energies_filename, \"w+\")\n",
    "energies_file.write(f\"{nwalkers} {1} {3*nchains} {False} {nchains} \\n\")\n",
    "\n",
    "#traj = ase.io.write(\"nestedsampling.extxyz\", mode=\"a\", fmt=\"extxyz\")\n",
    "\n",
    "\n",
    "f = IntProgress(min=0, max=ns_iterations) \n",
    "display(f) # display the bar\n",
    "\n",
    "for i in range(ns_iterations):\n",
    "    index_max = max(volumes, key=volumes.get)\n",
    "    volume_limit = volumes[index_max]\n",
    "    clone = np.random.randint(1,nwalkers+1)\n",
    "    \n",
    "    if i%vis_interval == 0:\n",
    "        largest_config = mk_ase_config(index_max,nbeads,nchains)\n",
    "        largest_config.wrap()\n",
    "        ase.io.write(traj_filename,largest_config, append = True)\n",
    "#         traj.write(largest_config)\n",
    "\n",
    "\n",
    "    \n",
    "    if i%mc_adjust_interval == 0:\n",
    "        rv = adjust_dv(clone,active_box,low_acc_rate,high_acc_rate, volume_limit)\n",
    "        adjust_dr(clone,active_box,low_acc_rate,high_acc_rate)\n",
    "        \n",
    "#         adjust_dt(clone,active_box,low_acc_rate,high_acc_rate)\n",
    "#         adjust_dh(clone,active_box,low_acc_rate,high_acc_rate)\n",
    "        adjust_dshear(clone,active_box,low_acc_rate,high_acc_rate)\n",
    "        adjust_dstretch(clone,active_box,low_acc_rate,high_acc_rate)\n",
    "\n",
    "    \n",
    "    clone_walker(clone,active_box) #copies the ibox from first argument onto the second one.\n",
    "    \n",
    "    \n",
    "    new_volume,_ = MC_run(walk_length, move_ratio, active_box,volume_limit)\n",
    "    \n",
    "    \n",
    "    if new_volume-volume_limit<sys.float_info.epsilon:\n",
    "        #removed_volumes.append(volumes[index_max])\n",
    "        energies_file.write(f\"{i} {volumes[index_max]} {volumes[index_max]} \\n\")\n",
    "        volumes[index_max] = new_volume #replacing the highest volume walker\n",
    "        clone_walker(active_box, index_max)\n",
    "    if i%1000 == 0:\n",
    "        print(i,volume_limit,rv)\n",
    "        pass\n",
    "\n",
    "        \n",
    "    \n",
    "    \n",
    "\n",
    "    f.value+=1\n",
    "energies_file.close()\n",
    "#traj.close()\n",
    "\n",
    "print(\"--- %s seconds ---\" % (time.time() - start_time))"
   ]
  },
  {
   "cell_type": "markdown",
   "metadata": {},
   "source": [
    "Expected packing for 32 spheres is $\\approx$ 22.3"
   ]
  },
  {
   "cell_type": "markdown",
   "metadata": {},
   "source": [
    "Three approaches to cloning a simulation cell for generating new configurations.\n",
    "\n",
    "1. Write a random configuration to an xyz file, and then load it into an extra empty walker, which will be used to perform trial moves, and then save as an xyz file. Then you can use the highest volume actual walker to load the positions, and continue. Issue is, loading and saving will be the brunt of the calculation.\n",
    "\n",
    "2. Use a numpy array to hold positions (i.e use it as a backup), and then manually change one of the walkers to be the clone, by setting positions and unit cell. Can get very messy, but should be much faster.\n",
    "\n",
    "3. Blend the methods. Use an extra walker to hold the atoms but enter the positions and cell vectors from numpy array"
   ]
  },
  {
   "cell_type": "code",
   "execution_count": null,
   "metadata": {},
   "outputs": [],
   "source": [
    "mdl.alkane_get_dv_max()"
   ]
  },
  {
   "cell_type": "code",
   "execution_count": 26,
   "metadata": {
    "code_folding": []
   },
   "outputs": [
    {
     "name": "stdout",
     "output_type": "stream",
     "text": [
      "0.8007344938941415\n"
     ]
    },
    {
     "data": {
      "application/vnd.jupyter.widget-view+json": {
       "model_id": "ada7cc5fc44d4dc2b78e84f9c0dcdd8c",
       "version_major": 2,
       "version_minor": 0
      },
      "text/plain": [
       "HBox(children=(NGLWidget(), VBox(children=(Dropdown(description='Show', options=('All', 'C'), value='All'), Dr…"
      ]
     },
     "metadata": {},
     "output_type": "display_data"
    }
   ],
   "source": [
    "# visualising one of the final configs\n",
    "atoms = mk_ase_config(1, nbeads, nchains)\n",
    "v = vis_chains(atoms)\n",
    "#atoms.wrap()\n",
    "# v = view(atoms,viewer='nglview')\n",
    "print(min_aspect_ratio(8))\n",
    "v\n"
   ]
  },
  {
   "cell_type": "code",
   "execution_count": 27,
   "metadata": {
    "code_folding": []
   },
   "outputs": [
    {
     "data": {
      "application/vnd.jupyter.widget-view+json": {
       "model_id": "34ff6b26aaa24eeebf7c4bb3fb518428",
       "version_major": 2,
       "version_minor": 0
      },
      "text/plain": [
       "HBox(children=(NGLWidget(max_frame=999), VBox(children=(Dropdown(description='Show', options=('All', 'C'), val…"
      ]
     },
     "metadata": {},
     "output_type": "display_data"
    }
   ],
   "source": [
    "#visualising the trajectory\n",
    "vis_traj = ase.io.read(traj_filename, index = ':')\n",
    "\n",
    "#v = view(vis_traj, viewer = 'mpl')\n",
    "\n",
    "\n",
    "vis_chains(vis_traj)"
   ]
  },
  {
   "cell_type": "code",
   "execution_count": null,
   "metadata": {
    "code_folding": []
   },
   "outputs": [],
   "source": [
    "#overlap check\n",
    "overlap_check = np.zeros(nwalkers)\n",
    "for ibox in range(1,nwalkers+1):\n",
    "    overlap_check[mdl.alkane_check_chaindef adjust_dv(ibox,active_box, lower_bound,upper_bound, volume_limit):\n",
    "\n",
    "    equil_factor = 2\n",
    "\n",
    "    sweeps = 20\n",
    "\n",
    "    move_ratio = [1,0,0,0,0,0]\n",
    "\n",
    "    clone_walker(ibox,active_box)\n",
    "\n",
    "    vol,acceptance_rate = MC_run(sweeps, move_ratio, active_box, volume_limit)\n",
    "\n",
    "    \n",
    "\n",
    "    r = acceptance_rate[ivol]\n",
    "\n",
    "    \n",
    "\n",
    "    if r < lower_bound:\n",
    "\n",
    "        mdl.alkane_set_dv_max(max(mdl.alkane_get_dv_max()/equil_factor, min_dv))\n",
    "\n",
    "    elif r > upper_bound:\n",
    "\n",
    "        mdl.alkane_set_dv_max(mdl.alkane_get_dv_max()*equil_factor)\n",
    "\n",
    "    return r\n",
    "\n",
    "\n",
    "_overlap(ibox)]\n",
    "print(np.where(overlap_check!=0))"
   ]
  },
  {
   "cell_type": "code",
   "execution_count": null,
   "metadata": {
    "code_folding": []
   },
   "outputs": [],
   "source": [
    "#distribution of volumes shown as a histogram\n",
    "end_volumes = []\n",
    "for ibox in range(1,nwalkers+1):\n",
    "    end_volumes.append(volumes[ibox])\n",
    "#plt.hist(start_volumes, bins = 20)\n",
    "plt.hist(end_volumes)\n",
    "plt.show()"
   ]
  },
  {
   "cell_type": "code",
   "execution_count": null,
   "metadata": {},
   "outputs": [],
   "source": [
    "index_min = min(volumes, key=volumes.get)\n",
    "print(index_min)"
   ]
  },
  {
   "cell_type": "code",
   "execution_count": null,
   "metadata": {
    "code_folding": []
   },
   "outputs": [],
   "source": [
    "#plot of removed volumes in the order they are removed, excluding final volumes\n",
    "#plt.plot(np.arange(len(removed_volumes)),np.array(removed_volumes)**-0.5)\n",
    "#plt.yscale(\"log\")\n",
    "plt.plot(np.arange(len(removed_volumes)),removed_volumes)\n",
    "plt.title(\"Volume as a function of iterations ran\")\n",
    "plt.show()\n"
   ]
  },
  {
   "cell_type": "code",
   "execution_count": null,
   "metadata": {
    "code_folding": []
   },
   "outputs": [],
   "source": [
    "#rdf functionality\n",
    "def py_rdf(r,S, dr, dim):\n",
    "    from numpy import zeros, sqrt, where, pi, mean, arange, histogram, absolute\n",
    "    num_particles  = len(r)\n",
    "    rMax           = S/2.0\n",
    "    edges          = arange(0, rMax + dr, dr)\n",
    "    num_increments = len(edges) - 1\n",
    "    g              = zeros(num_increments)\n",
    "    radii          = zeros(num_increments)\n",
    "    numberDensity  = len(r) / atoms.get_volume()\n",
    "\n",
    "    # Compute pairwise correlation for each particle\n",
    "    for index in range(num_particles):\n",
    "\n",
    "        d = 0.0\n",
    "        for i in range(dim):\n",
    "            dp = absolute(r[index,i] - r[:,i])\n",
    "            mask = dp>S/2.0\n",
    "            dp[mask] = S - dp[mask]\n",
    "            d += dp*dp\n",
    "\n",
    "        d = sqrt(d)\n",
    "        d[index] = 2 * rMax\n",
    "\n",
    "        (result, bins) = histogram(d, bins=edges, density=False)\n",
    "        g += result\n",
    "\n",
    "    g = g/(num_particles * numberDensity)\n",
    "\n",
    "    # Normalize the g(r) dividing by the g(r) of an ideal gas - in 2D!\n",
    "    if dim == 2:\n",
    "        for i in range(num_increments):\n",
    "            radii[i] = (edges[i] + edges[i+1]) / 2.\n",
    "            rOuter = edges[i + 1]\n",
    "            rInner = edges[i]\n",
    "            g[i] = g[i] / (2.0 * pi * (rOuter-rInner)* radii[i])\n",
    "    \n",
    "    # Needed to compute the 3D g(r) (blue box)\n",
    "    # Normalize the g(r) divinding by the g(r) of an ideal gas - in 3D!\n",
    "    if dim == 3:\n",
    "        for i in range(num_increments):\n",
    "            radii[i] = (edges[i] + edges[i+1]) / 2.\n",
    "            rOuter = edges[i + 1]\n",
    "            rInner = edges[i]\n",
    "            g[i] = g[i] / (4.0 * pi * (rOuter-rInner)* radii[i] * radii[i] )\n",
    "\n",
    "    return (radii, g)"
   ]
  },
  {
   "cell_type": "code",
   "execution_count": null,
   "metadata": {
    "code_folding": []
   },
   "outputs": [],
   "source": [
    "#rdf\n",
    "r = atoms.positions\n",
    "S = 16\n",
    "dim = 3\n",
    "dr = 0.2\n",
    "S = np.amax(atoms.cell)\n",
    "\n",
    "\n",
    "\n",
    "radii, g = py_rdf(r,S, dr, dim)"
   ]
  },
  {
   "cell_type": "code",
   "execution_count": null,
   "metadata": {},
   "outputs": [],
   "source": [
    "plt.plot(radii,g)"
   ]
  },
  {
   "cell_type": "code",
   "execution_count": null,
   "metadata": {},
   "outputs": [],
   "source": [
    "print(mdl.alkane_get_dt_max())"
   ]
  },
  {
   "cell_type": "code",
   "execution_count": null,
   "metadata": {},
   "outputs": [],
   "source": [
    "m,c = np.polyfit(np.arange(len(removed_volumes)),np.array(removed_volumes)**-0.5, 1)"
   ]
  },
  {
   "cell_type": "code",
   "execution_count": null,
   "metadata": {},
   "outputs": [],
   "source": [
    "x = np.linspace(0,2e5,100)\n",
    "y =m*x+c\n",
    "\n",
    "print(1/np.sqrt(25))\n",
    "plt.plot(x,y)\n",
    "\n"
   ]
  },
  {
   "cell_type": "code",
   "execution_count": null,
   "metadata": {},
   "outputs": [],
   "source": [
    "print(\"{:.2e}\".format((ns_iterations*walk_length*(nchains+7))))"
   ]
  },
  {
   "cell_type": "code",
   "execution_count": null,
   "metadata": {},
   "outputs": [],
   "source": [
    "energies_filename = f\"nested_sampling.{nwalkers}.1.energies\"\n",
    "\n",
    "try:\n",
    "    os.remove(energies_filename)\n",
    "except:\n",
    "    pass\n",
    "\n",
    "energies_file = open(energies_filename, \"w+\")\n",
    "\n",
    "energies_file.write(f\"{nwalkers} {1} {3*nchains} {False} {nchains}\")\n",
    "\n",
    "energies_file.write(f\"{i} {volumes[index_max]} {volumes[index_max]}\")\n",
    "\n",
    "\n"
   ]
  },
  {
   "cell_type": "code",
   "execution_count": null,
   "metadata": {},
   "outputs": [],
   "source": [
    "import hs_alkane.alkane as mdl"
   ]
  },
  {
   "cell_type": "code",
   "execution_count": null,
   "metadata": {},
   "outputs": [],
   "source": []
  }
 ],
 "metadata": {
  "kernelspec": {
   "display_name": "Python 3",
   "language": "python",
   "name": "python3"
  },
  "language_info": {
   "codemirror_mode": {
    "name": "ipython",
    "version": 3
   },
   "file_extension": ".py",
   "mimetype": "text/x-python",
   "name": "python",
   "nbconvert_exporter": "python",
   "pygments_lexer": "ipython3",
   "version": "3.8.3"
  }
 },
 "nbformat": 4,
 "nbformat_minor": 5
}
