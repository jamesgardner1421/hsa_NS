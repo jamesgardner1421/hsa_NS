{
 "cells": [
  {
   "cell_type": "code",
   "execution_count": 1,
   "metadata": {},
   "outputs": [],
   "source": [
    "import hs_alkane.alkane as mdl\n",
    "import numpy as np\n",
    "\n",
    "# For progress bar\n",
    "from ipywidgets import IntProgress\n",
    "from IPython.display import display\n",
    "import matplotlib.pyplot as plt\n",
    "import sys\n",
    "import os\n",
    "\n",
    "\n",
    "nwalkers = 500\n",
    "active_box = nwalkers+1  #extra box to hold positions\n",
    "nchains = 32\n",
    "nbeads = 1\n",
    "max_vol_per_atom = 15\n",
    "mdl.box_set_num_boxes(nwalkers+1)\n",
    "mdl.box_initialise()\n",
    "mdl.box_set_pbc(1)\n",
    "mdl.alkane_set_nchains(nchains) \n",
    "mdl.alkane_set_nbeads(nbeads)    \n",
    "mdl.alkane_initialise()           \n",
    "mdl.box_set_isotropic(1)\n",
    "mdl.box_set_bypass_link_cells(1) # Bypass use of link cell algorithm for neighbour finding\n",
    "mdl.box_set_use_verlet_list(0)   # Don't use Verlet lists either since CBMC moves quickly invalidate these\n",
    "\n",
    "cell_matrix = 0.999*np.eye(3)*np.cbrt(nbeads*nchains*max_vol_per_atom)#*np.random.uniform(0,1)\n",
    "for ibox in range(1,nwalkers+1):\n",
    "    mdl.box_set_cell(ibox,cell_matrix)\n",
    "\n",
    "\n",
    "    "
   ]
  },
  {
   "cell_type": "code",
   "execution_count": 2,
   "metadata": {},
   "outputs": [],
   "source": [
    "from ase import Atoms\n",
    "from ase.visualize import view\n",
    "import ase\n",
    "\n",
    "def mk_ase_config(ibox, Nbeads, Nchains):\n",
    "    'Uses the current state of the alkane model to construct an ASE atoms object'\n",
    "    \n",
    "    # Create and populate ASE object\n",
    "    model_positions = np.empty([Nchains*Nbeads, 3])\n",
    "    cell_vectors = mdl.box_get_cell(ibox)\n",
    "   \n",
    "    for ichain in range(0, Nchains):\n",
    "        model_positions[Nbeads*ichain:Nbeads*ichain+Nbeads] = mdl.alkane_get_chain(ichain+1, ibox)\n",
    "    \n",
    "    confstring = \"C\"+str(Nbeads*Nchains)\n",
    "    \n",
    "    box_config = Atoms(confstring, positions=model_positions*(1.5/0.4), pbc=True, cell=cell_vectors*(1.5/0.4))\n",
    "\n",
    "\n",
    "    return box_config  # Returns ASE atom object"
   ]
  },
  {
   "cell_type": "code",
   "execution_count": 3,
   "metadata": {},
   "outputs": [],
   "source": [
    "def vis_chains(vis_config):\n",
    "    '''Takes an ASE atoms object or list thereof and creates a customised ngl viewer \n",
    "       with appropriate settings for our bulk alkane chain models'''\n",
    "    \n",
    "    met = 0.35\n",
    "    rad = 1.0\n",
    "    \n",
    "    colours = ['#DDDDDD']#['#FF1111','#FFAAAA', '#DDDDDD', '#1111FF', '#AAAAFF']\n",
    "    ncols = len(colours)\n",
    "    \n",
    "    sel=list()\n",
    "    for icol in range(ncols):\n",
    "        sel.append(list())\n",
    "    \n",
    "    # Create lists for each colour\n",
    "    for ichain in range(0, nchains):\n",
    "        icol = ichain%ncols\n",
    "        for ibead in range(nbeads):\n",
    "            iatom = ichain*nbeads + ibead\n",
    "            sel[icol].append(iatom)\n",
    "            \n",
    "    v = view(vis_config, viewer='ngl')                   \n",
    "    v.view.clear_representations()\n",
    "    v.view.add_representation('unitcell', color='#000000')\n",
    "    \n",
    "    for icol in range(ncols):\n",
    "        v.view.add_representation('ball+stick', selection=sel[icol], color=colours[icol], radius=rad, metalness=met)\n",
    "\n",
    "    return v"
   ]
  },
  {
   "cell_type": "code",
   "execution_count": 4,
   "metadata": {},
   "outputs": [],
   "source": [
    "ncopy = nchains\n",
    "for ibox in range(1,nwalkers+1):\n",
    "    for ichain in range(1,ncopy+1):\n",
    "        rb_factor = 0\n",
    "        mdl.alkane_set_nchains(ichain)\n",
    "        overlap_flag = 1\n",
    "        while overlap_flag != 0 and ichain != 1:\n",
    "            rb_factor, ifail = mdl.alkane_grow_chain(ichain,ibox,1)         \n",
    "#             if ifail != 0:\n",
    "#                 rb_factor = 0\n",
    "            overlap_flag = mdl.alkane_check_chain_overlap(ibox)\n",
    "\n",
    "        \n"
   ]
  },
  {
   "cell_type": "code",
   "execution_count": 23,
   "metadata": {},
   "outputs": [
    {
     "name": "stdout",
     "output_type": "stream",
     "text": [
      "(array([], dtype=int64),)\n"
     ]
    }
   ],
   "source": [
    "overlap_check = np.zeros(nwalkers)\n",
    "for ibox in range(1,nwalkers+1):\n",
    "    overlap_check[mdl.alkane_check_chain_overlap(ibox)]\n",
    "print(np.where(overlap_check!=0))\n",
    "#Checks for overlaps in any of the walkers"
   ]
  },
  {
   "cell_type": "code",
   "execution_count": 6,
   "metadata": {},
   "outputs": [
    {
     "data": {
      "application/vnd.jupyter.widget-view+json": {
       "model_id": "fc26749afefd4a32ae6d16000001d66f",
       "version_major": 2,
       "version_minor": 0
      },
      "text/plain": []
     },
     "metadata": {},
     "output_type": "display_data"
    },
    {
     "data": {
      "application/vnd.jupyter.widget-view+json": {
       "model_id": "2caea7b9e5c145119c9c70c093df05d3",
       "version_major": 2,
       "version_minor": 0
      },
      "text/plain": [
       "HBox(children=(NGLWidget(), VBox(children=(Dropdown(description='Show', options=('All', 'C'), value='All'), Dr…"
      ]
     },
     "metadata": {},
     "output_type": "display_data"
    }
   ],
   "source": [
    "atoms = mk_ase_config(10, nbeads, nchains)\n",
    "#atoms = ase.io.read(\"test.traj\")\n",
    "vis_chains(atoms)\n"
   ]
  },
  {
   "cell_type": "code",
   "execution_count": 7,
   "metadata": {},
   "outputs": [
    {
     "data": {
      "application/vnd.jupyter.widget-view+json": {
       "model_id": "1a728820e3b0494ca1fe4a8b891a7eba",
       "version_major": 2,
       "version_minor": 0
      },
      "text/plain": [
       "HBox(children=(NGLWidget(), VBox(children=(Dropdown(description='Show', options=('All', 'C'), value='All'), Dr…"
      ]
     },
     "metadata": {},
     "output_type": "display_data"
    }
   ],
   "source": [
    "atoms = mk_ase_config(5, nbeads, nchains)\n",
    "#atoms = ase.io.read(\"test.traj\")\n",
    "vis_chains(atoms)"
   ]
  },
  {
   "cell_type": "code",
   "execution_count": 8,
   "metadata": {},
   "outputs": [],
   "source": [
    "mdl.alkane_set_dr_max(0.65)\n",
    "mdl.alkane_set_dt_max(0.43)\n",
    "mdl.alkane_set_dh_max(0.4)\n",
    "mdl.alkane_set_dv_max(0.5)"
   ]
  },
  {
   "cell_type": "code",
   "execution_count": 9,
   "metadata": {},
   "outputs": [],
   "source": [
    "move_types = ['box','translate', 'rotate', 'dihedral']\n",
    "ivol = 0; itrans = 1; irot = 2; idih = 3\n",
    "move_ratio = np.zeros(4)\n",
    "move_ratio[ivol] = 1\n",
    "move_ratio[itrans] = nchains\n",
    "#moves_ratio[irot] = 2.0*nchains\n",
    "#moves_ratio[idih] = 1.0*nchains\n",
    "#moves_prob = np.cumsum(moves_ratio)/np.sum(moves_ratio)\n",
    "walk_length = 20\n"
   ]
  },
  {
   "cell_type": "markdown",
   "metadata": {},
   "source": [
    "Function which performs the majority of Monte Carlo steps. Has an optional volume_limit argument which allows\n",
    "one to specify whether or there is a volume restriction when making volume moves. If not specified, its taken as positive infinity."
   ]
  },
  {
   "cell_type": "code",
   "execution_count": 10,
   "metadata": {},
   "outputs": [],
   "source": [
    "def MC_run(sweeps, move_ratio, ibox,volume_limit=float('inf')):\n",
    "    moves_accepted = np.zeros(4)\n",
    "    moves_attempted = np.zeros(4)\n",
    "    nbeads = mdl.alkane_get_nbeads()\n",
    "    nchains = mdl.alkane_get_nchains()\n",
    "    isweeps = 0\n",
    "    pressure = 0\n",
    "    move_prob = np.cumsum(move_ratio)/np.sum(move_ratio)\n",
    "    while isweeps < sweeps:\n",
    "        imove=0\n",
    "        while imove< nchains+1:\n",
    "            ichain = np.random.randint(1, high=nchains+1) # picks a chain at random\n",
    "            current_chain = mdl.alkane_get_chain(ichain+1, ibox)\n",
    "            backup_chain = current_chain.copy()\n",
    "            xi = np.random.random()\n",
    "            if xi < move_prob[ivol]:\n",
    "                # Attempt a volume move\n",
    "                itype = ivol\n",
    "                boltz = mdl.alkane_box_resize(pressure, ibox, 0)\n",
    "                moves_attempted[itype] += 1\n",
    "            elif xi < move_prob[itrans]:\n",
    "                # Attempt a translation move\n",
    "                itype = itrans\n",
    "                boltz = mdl.alkane_translate_chain(ichain+1, ibox)\n",
    "                moves_attempted[itrans] += 1\n",
    "            elif xi < move_prob[irot]:\n",
    "                # Attempt a rotation move\n",
    "                itype = irot\n",
    "                boltz, quat = mdl.alkane_rotate_chain(ichain+1, ibox, 0)\n",
    "                moves_attempted[itype] += 1\n",
    "            else:\n",
    "                # Attempt a dihedral angle move\n",
    "                itype = idih\n",
    "                boltz, bead1, angle = mdl.alkane_bond_rotate(ichain+1, ibox, 1)\n",
    "                moves_attempted[itype] += 1\n",
    "\n",
    "#             if (np.random.random() < boltz):\n",
    "#                 #accept the move\n",
    "#                 moves_accepted[itype]+=1\n",
    "\n",
    "#             else:\n",
    "                \n",
    "#                 # Reject move\n",
    "#                 if (itype!=ivol):\n",
    "#                     # Restore old chain if single chain move\n",
    "#                     for ibead in range(nbeads):\n",
    "#                         current_chain[ibead] = backup_chain[ibead]\n",
    "#                 else:\n",
    "#                     # Reset the box change - special fucntion for this.\n",
    "#                     dumboltz = mdl.alkane_box_resize(pressure, ibox, 1)\n",
    "            \n",
    "            if (itype==ivol):\n",
    "                new_volume = mdl.box_compute_volume(ibox)\n",
    "                if (np.random.random() < boltz) and (new_volume - volume_limit) < sys.float_info.epsilon:\n",
    "                    moves_accepted[itype]+=1\n",
    "                else:\n",
    "                    dumboltz = mdl.alkane_box_resize(pressure, ibox, 1)\n",
    "\n",
    "                \n",
    "            else:\n",
    "                if (np.random.random() < boltz):\n",
    "                #accept the move\n",
    "                    moves_accepted[itype]+=1\n",
    "                else:\n",
    "                    #reject the move\n",
    "                    for ibead in range(nbeads):\n",
    "                        current_chain[ibead] = backup_chain[ibead]\n",
    "\n",
    "                    \n",
    "            \n",
    "\n",
    "\n",
    "            imove += 1\n",
    "        isweeps +=1\n",
    "    moves_attempted = np.where(moves_attempted == 0, 1, moves_attempted)\n",
    "    moves_acceptance_rate = moves_accepted/moves_attempted\n",
    "\n",
    "    return mdl.box_compute_volume(ibox), moves_acceptance_rate"
   ]
  },
  {
   "cell_type": "code",
   "execution_count": 11,
   "metadata": {},
   "outputs": [],
   "source": [
    "volumes = {}\n",
    "start_volumes = []\n",
    "for ibox in range(1,nwalkers+1):\n",
    "    volumes[ibox], rate = MC_run(walk_length, move_ratio, ibox)\n",
    "    start_volumes.append(volumes[ibox])\n"
   ]
  },
  {
   "cell_type": "markdown",
   "metadata": {},
   "source": [
    "Check for overlaps again"
   ]
  },
  {
   "cell_type": "code",
   "execution_count": 12,
   "metadata": {},
   "outputs": [
    {
     "name": "stdout",
     "output_type": "stream",
     "text": [
      "(array([], dtype=int64),)\n"
     ]
    }
   ],
   "source": [
    "overlap_check = np.zeros(nwalkers)\n",
    "for ibox in range(1,nwalkers+1):\n",
    "    overlap_check[mdl.alkane_check_chain_overlap(ibox)]\n",
    "print(np.where(overlap_check!=0))"
   ]
  },
  {
   "cell_type": "code",
   "execution_count": 13,
   "metadata": {},
   "outputs": [
    {
     "data": {
      "application/vnd.jupyter.widget-view+json": {
       "model_id": "2195154eee2c4a6caa8d1e0d5a1f2e19",
       "version_major": 2,
       "version_minor": 0
      },
      "text/plain": [
       "HBox(children=(NGLWidget(), VBox(children=(Dropdown(description='Show', options=('All', 'C'), value='All'), Dr…"
      ]
     },
     "metadata": {},
     "output_type": "display_data"
    }
   ],
   "source": [
    "atoms = mk_ase_config(7, nbeads, nchains)\n",
    "atoms.wrap()\n",
    "# v=view(atoms, viewer = 'nglview')\n",
    "# v.view.clear_representations()\n",
    "# v.view.add_representation('ball+stick', radius = 1)\n",
    "# v.view.add_representation('unitcell')\n",
    "v = vis_chains(atoms)\n",
    "v"
   ]
  },
  {
   "cell_type": "code",
   "execution_count": 14,
   "metadata": {},
   "outputs": [],
   "source": [
    "#output all volumes"
   ]
  },
  {
   "cell_type": "markdown",
   "metadata": {},
   "source": [
    "Functionality for cloning one box onto another"
   ]
  },
  {
   "cell_type": "code",
   "execution_count": 15,
   "metadata": {},
   "outputs": [],
   "source": [
    "def clone_walker(ibox_original,ibox_clone):\n",
    "    #print(mdl.box_get_cell(ibox_original))\n",
    "\n",
    "    cell = mdl.box_get_cell(ibox_original)\n",
    "    mdl.box_set_cell(ibox_clone,cell)\n",
    "#     print(mdl.box_get_cell(ibox_clone))\n",
    "    \n",
    "    \n",
    "    for ichain in range(1,nchains+1):\n",
    "        original_chain = mdl.alkane_get_chain(ichain,ibox_original)\n",
    "        original_chain_copy = original_chain.copy()\n",
    "        clone_chain = mdl.alkane_get_chain(ichain,ibox_clone)\n",
    "        for i in range(nbeads):\n",
    "#             print(original_chain[i][:])\n",
    "#             print(original_chain_copy[i][:])\n",
    "            \n",
    "            clone_chain[i][:] = original_chain_copy[i][:]\n",
    "#            print(clone_chain[i][:])\n",
    "            #this checks for nans\n",
    "            coord_sum = np.sum(clone_chain[i][:])\n",
    "            nan_present = np.isnan(coord_sum)\n",
    "            if nan_present:\n",
    "                print(clone_chain[i][:])\n",
    "                sys.exit()\n",
    "\n",
    "                \n",
    "            "
   ]
  },
  {
   "cell_type": "markdown",
   "metadata": {},
   "source": [
    "Test cloning walker code below"
   ]
  },
  {
   "cell_type": "code",
   "execution_count": 16,
   "metadata": {},
   "outputs": [],
   "source": [
    "# first_config = mk_ase_config(1,1,32)\n",
    "# first_config.wrap()\n",
    "# vis_chains(first_config)"
   ]
  },
  {
   "cell_type": "code",
   "execution_count": 17,
   "metadata": {},
   "outputs": [],
   "source": [
    "# clone_walker(1,10)\n",
    "# second_config = mk_ase_config(10,1,32)\n",
    "# second_config.wrap()\n",
    "# vis_chains(second_config)"
   ]
  },
  {
   "cell_type": "code",
   "execution_count": 18,
   "metadata": {},
   "outputs": [],
   "source": [
    "def adjust_dv(ibox,active_box, lower_bound,upper_bound):\n",
    "    equil_factor = 2\n",
    "    sweeps = 20\n",
    "    move_ratio = [1,0,0,0]\n",
    "    clone_walker(ibox,active_box)\n",
    "    vol,acceptance_rate = MC_run(sweeps, move_ratio, active_box)\n",
    "    \n",
    "    r = acceptance_rate[ivol]\n",
    "    \n",
    "    if r < lower_bound:\n",
    "        mdl.alkane_set_dv_max(mdl.alkane_get_dr_max()/equil_factor)\n",
    "    elif r > upper_bound:\n",
    "        mdl.alkane_set_dv_max(mdl.alkane_get_dr_max()*equil_factor)\n",
    "    return r\n",
    "\n",
    "\n",
    "    "
   ]
  },
  {
   "cell_type": "code",
   "execution_count": 19,
   "metadata": {},
   "outputs": [],
   "source": [
    "def adjust_dr(ibox,active_box, lower_bound,upper_bound):\n",
    "    equil_factor = 2\n",
    "    sweeps = 20\n",
    "    move_ratio = [0,1,0,0]\n",
    "    clone_walker(ibox,active_box)\n",
    "    vol,acceptance_rate = MC_run(sweeps, move_ratio, active_box)\n",
    "    \n",
    "    r = acceptance_rate[itrans]\n",
    "    \n",
    "    if r < lower_bound:\n",
    "        mdl.alkane_set_dr_max(mdl.alkane_get_dr_max()/equil_factor)\n",
    "    elif r > upper_bound:\n",
    "        mdl.alkane_set_dr_max(mdl.alkane_get_dr_max()*equil_factor)\n",
    "    return r\n",
    "\n",
    "    "
   ]
  },
  {
   "cell_type": "code",
   "execution_count": 20,
   "metadata": {},
   "outputs": [],
   "source": [
    "def adjust_dt(ibox,active_box, lower_bound,upper_bound):\n",
    "    equil_factor = 2\n",
    "    sweeps = 20\n",
    "    move_ratio = [0,0,1,0]\n",
    "    clone_walker(ibox,active_box)\n",
    "    vol,acceptance_rate = MC_run(sweeps, move_ratio, active_box)\n",
    "    \n",
    "    r = acceptance_rate[irot]\n",
    "    \n",
    "    if r < lower_bound:\n",
    "        mdl.alkane_set_dt_max(mdl.alkane_get_dr_max()/equil_factor)\n",
    "    elif r > upper_bound:\n",
    "        mdl.alkane_set_dt_max(mdl.alkane_get_dr_max()*equil_factor)\n",
    "    return r\n",
    "\n",
    "\n",
    "    "
   ]
  },
  {
   "cell_type": "code",
   "execution_count": 21,
   "metadata": {},
   "outputs": [],
   "source": [
    "def adjust_dh(ibox,active_box, lower_bound,upper_bound):\n",
    "    equil_factor = 2\n",
    "    sweeps = 20\n",
    "    move_ratio = [0,0,0,1]\n",
    "    clone_walker(ibox,active_box)\n",
    "    vol,acceptance_rate = MC_run(sweeps, move_ratio, active_box)\n",
    "    \n",
    "    r = acceptance_rate[idih]\n",
    "    \n",
    "    if r < lower_bound:\n",
    "        mdl.alkane_set_dr_max(mdl.alkane_get_dh_max()/equil_factor)\n",
    "    elif r > upper_bound:\n",
    "        mdl.alkane_set_dr_max(mdl.alkane_get_dh_max()*equil_factor)\n",
    "    return r\n",
    "\n"
   ]
  },
  {
   "cell_type": "code",
   "execution_count": 22,
   "metadata": {
    "scrolled": true
   },
   "outputs": [
    {
     "data": {
      "application/vnd.jupyter.widget-view+json": {
       "model_id": "3d5d2e4976124eacb1ee8a60c7260b87",
       "version_major": 2,
       "version_minor": 0
      },
      "text/plain": [
       "IntProgress(value=0, max=5000)"
      ]
     },
     "metadata": {},
     "output_type": "display_data"
    },
    {
     "name": "stdout",
     "output_type": "stream",
     "text": [
      "481.9405963600425\n",
      "[[7.83125169 0.         0.        ]\n",
      " [0.         7.83125169 0.        ]\n",
      " [0.         0.         7.83125169]]\n",
      "[[7.83125169 0.         0.        ]\n",
      " [0.         7.83125169 0.        ]\n",
      " [0.         0.         7.83125169]]\n",
      "[[7.83125169 0.         0.        ]\n",
      " [0.         7.83125169 0.        ]\n",
      " [0.         0.         7.83125169]]\n",
      "[[7.80571027 0.         0.        ]\n",
      " [0.         7.80571027 0.        ]\n",
      " [0.         0.         7.80571027]]\n",
      "481.68893349746827\n",
      "[[7.82707852 0.         0.        ]\n",
      " [0.         7.82707852 0.        ]\n",
      " [0.         0.         7.82707852]]\n",
      "[[7.82707852 0.         0.        ]\n",
      " [0.         7.82707852 0.        ]\n",
      " [0.         0.         7.82707852]]\n",
      "[[7.82707852 0.         0.        ]\n",
      " [0.         7.82707852 0.        ]\n",
      " [0.         0.         7.82707852]]\n",
      "[[7.81982732 0.         0.        ]\n",
      " [0.         7.81982732 0.        ]\n",
      " [0.         0.         7.81982732]]\n",
      "481.5806619143095\n",
      "[[7.83328019 0.         0.        ]\n",
      " [0.         7.83328019 0.        ]\n",
      " [0.         0.         7.83328019]]\n",
      "[[7.83328019 0.         0.        ]\n",
      " [0.         7.83328019 0.        ]\n",
      " [0.         0.         7.83328019]]\n",
      "[[7.83328019 0.         0.        ]\n",
      " [0.         7.83328019 0.        ]\n",
      " [0.         0.         7.83328019]]\n",
      "[[7.89372505 0.         0.        ]\n",
      " [0.         7.89372505 0.        ]\n",
      " [0.         0.         7.89372505]]\n",
      "491.8650744698155\n",
      "[[7.82706149 0.         0.        ]\n",
      " [0.         7.82706149 0.        ]\n",
      " [0.         0.         7.82706149]]\n",
      "[[7.82706149 0.         0.        ]\n",
      " [0.         7.82706149 0.        ]\n",
      " [0.         0.         7.82706149]]\n",
      "[[7.82706149 0.         0.        ]\n",
      " [0.         7.82706149 0.        ]\n",
      " [0.         0.         7.82706149]]\n",
      "[[8.27687478 0.         0.        ]\n",
      " [0.         8.27687478 0.        ]\n",
      " [0.         0.         8.27687478]]\n",
      "567.0210144129525\n",
      "[[7.82358517 0.         0.        ]\n",
      " [0.         7.82358517 0.        ]\n",
      " [0.         0.         7.82358517]]\n",
      "[[7.82358517 0.         0.        ]\n",
      " [0.         7.82358517 0.        ]\n",
      " [0.         0.         7.82358517]]\n",
      "[[7.82358517 0.         0.        ]\n",
      " [0.         7.82358517 0.        ]\n",
      " [0.         0.         7.82358517]]\n",
      "[[8.79868699 0.         0.        ]\n",
      " [0.         8.79868699 0.        ]\n",
      " [0.         0.         8.79868699]]\n",
      "681.1670059574406\n",
      "[[7.82369465 0.         0.        ]\n",
      " [0.         7.82369465 0.        ]\n",
      " [0.         0.         7.82369465]]\n",
      "[[7.82369465 0.         0.        ]\n",
      " [0.         7.82369465 0.        ]\n",
      " [0.         0.         7.82369465]]\n",
      "[[7.82369465 0.         0.        ]\n",
      " [0.         7.82369465 0.        ]\n",
      " [0.         0.         7.82369465]]\n",
      "[[9.77893057 0.         0.        ]\n",
      " [0.         9.77893057 0.        ]\n",
      " [0.         0.         9.77893057]]\n",
      "935.1345180721415\n",
      "[[7.82632669 0.         0.        ]\n",
      " [0.         7.82632669 0.        ]\n",
      " [0.         0.         7.82632669]]\n",
      "[[7.82632669 0.         0.        ]\n",
      " [0.         7.82632669 0.        ]\n",
      " [0.         0.         7.82632669]]\n",
      "[[7.82632669 0.         0.        ]\n",
      " [0.         7.82632669 0.        ]\n",
      " [0.         0.         7.82632669]]\n",
      "[[10.71669925  0.          0.        ]\n",
      " [ 0.         10.71669925  0.        ]\n",
      " [ 0.          0.         10.71669925]]\n",
      "1230.787646061642\n",
      "[[7.81959995 0.         0.        ]\n",
      " [0.         7.81959995 0.        ]\n",
      " [0.         0.         7.81959995]]\n",
      "[[7.81959995 0.         0.        ]\n",
      " [0.         7.81959995 0.        ]\n",
      " [0.         0.         7.81959995]]\n",
      "[[7.81959995 0.         0.        ]\n",
      " [0.         7.81959995 0.        ]\n",
      " [0.         0.         7.81959995]]\n",
      "[[12.28005217  0.          0.        ]\n",
      " [ 0.         12.28005217  0.        ]\n",
      " [ 0.          0.         12.28005217]]\n",
      "1851.827951718412\n",
      "[[7.81618568 0.         0.        ]\n",
      " [0.         7.81618568 0.        ]\n",
      " [0.         0.         7.81618568]]\n",
      "[[7.81618568 0.         0.        ]\n",
      " [0.         7.81618568 0.        ]\n",
      " [0.         0.         7.81618568]]\n",
      "[[7.81618568 0.         0.        ]\n",
      " [0.         7.81618568 0.        ]\n",
      " [0.         0.         7.81618568]]\n",
      "[[16.17196553  0.          0.        ]\n",
      " [ 0.         16.17196553  0.        ]\n",
      " [ 0.          0.         16.17196553]]\n",
      "4229.4940751729055\n",
      "[[7.8135916 0.        0.       ]\n",
      " [0.        7.8135916 0.       ]\n",
      " [0.        0.        7.8135916]]\n",
      "[[7.8135916 0.        0.       ]\n",
      " [0.        7.8135916 0.       ]\n",
      " [0.        0.        7.8135916]]\n",
      "[[7.8135916 0.        0.       ]\n",
      " [0.        7.8135916 0.       ]\n",
      " [0.        0.        7.8135916]]\n",
      "[[21.89710477  0.          0.        ]\n",
      " [ 0.         21.89710477  0.        ]\n",
      " [ 0.          0.         21.89710477]]\n",
      "10499.293814097895\n",
      "[[7.8147475 0.        0.       ]\n",
      " [0.        7.8147475 0.       ]\n",
      " [0.        0.        7.8147475]]\n",
      "[[7.8147475 0.        0.       ]\n",
      " [0.        7.8147475 0.       ]\n",
      " [0.        0.        7.8147475]]\n",
      "[[7.8147475 0.        0.       ]\n",
      " [0.        7.8147475 0.       ]\n",
      " [0.        0.        7.8147475]]\n",
      "[[25.71459752  0.          0.        ]\n",
      " [ 0.         25.71459752  0.        ]\n",
      " [ 0.          0.         25.71459752]]\n",
      "17003.533971746798\n",
      "[[7.82737353 0.         0.        ]\n",
      " [0.         7.82737353 0.        ]\n",
      " [0.         0.         7.82737353]]\n",
      "[[7.82737353 0.         0.        ]\n",
      " [0.         7.82737353 0.        ]\n",
      " [0.         0.         7.82737353]]\n",
      "[[7.82737353 0.         0.        ]\n",
      " [0.         7.82737353 0.        ]\n",
      " [0.         0.         7.82737353]]\n",
      "[[31.51042144  0.          0.        ]\n",
      " [ 0.         31.51042144  0.        ]\n",
      " [ 0.          0.         31.51042144]]\n",
      "31286.907271263528\n",
      "[[7.81869938 0.         0.        ]\n",
      " [0.         7.81869938 0.        ]\n",
      " [0.         0.         7.81869938]]\n",
      "[[7.81869938 0.         0.        ]\n",
      " [0.         7.81869938 0.        ]\n",
      " [0.         0.         7.81869938]]\n",
      "[[7.81869938 0.         0.        ]\n",
      " [0.         7.81869938 0.        ]\n",
      " [0.         0.         7.81869938]]\n",
      "[[38.78659271  0.          0.        ]\n",
      " [ 0.         38.78659271  0.        ]\n",
      " [ 0.          0.         38.78659271]]\n",
      "[nan nan nan]\n"
     ]
    },
    {
     "ename": "SystemExit",
     "evalue": "",
     "output_type": "error",
     "traceback": [
      "An exception has occurred, use %tb to see the full traceback.\n",
      "\u001b[0;31mSystemExit\u001b[0m\n"
     ]
    },
    {
     "name": "stderr",
     "output_type": "stream",
     "text": [
      "/home/chem/msunfs/miniconda3/lib/python3.8/site-packages/IPython/core/interactiveshell.py:3425: UserWarning: To exit: use 'exit', 'quit', or Ctrl-D.\n",
      "  warn(\"To exit: use 'exit', 'quit', or Ctrl-D.\", stacklevel=1)\n"
     ]
    }
   ],
   "source": [
    "ns_iterations = 5000\n",
    "walk_length = 50\n",
    "\n",
    "mc_adjust_interval = nwalkers//2 #for adjusting step sizes\n",
    "low_acc_rate = 0.2\n",
    "high_acc_rate = 0.5\n",
    "\n",
    "removed_volumes = []\n",
    "\n",
    "snapshots = 200\n",
    "\n",
    "vis_interval = ns_iterations//snapshots\n",
    "\n",
    "\n",
    "f = IntProgress(min=0, max=ns_iterations) \n",
    "display(f) # display the bar\n",
    "\n",
    "\n",
    "try:\n",
    "    os.remove(\"nestedsampling.traj\")\n",
    "except:\n",
    "    pass\n",
    "\n",
    "traj = ase.io.Trajectory(\"hsa_ns.traj\",'a')\n",
    "\n",
    "for i in range(ns_iterations):\n",
    "    index_max = max(volumes, key=volumes.get)\n",
    "    volume_limit = volumes[index_max]\n",
    "    box_to_clone = np.random.randint(1,nwalkers+1)\n",
    "    \n",
    "    if ns_iterations%vis_interval == 0:\n",
    "        #print(\"something\")\n",
    "        traj.write(atoms = mk_ase_config(index_max, nbeads, nchains))\n",
    "\n",
    "    \n",
    "\n",
    "    \n",
    "    if ns_iterations%mc_adjust_interval == 0:\n",
    "        print(volumes[index_max])\n",
    "\n",
    "        adjust_dv(box_to_clone,active_box,low_acc_rate,high_acc_rate)\n",
    "        r = adjust_dr(box_to_clone,active_box,low_acc_rate,high_acc_rate)\n",
    "#         adjust_dt(clone,active_box,low_acc_rate,high_acc_rate)\n",
    "#         adjust_dh(clone,active_box,low_acc_rate,high_acc_rate)\n",
    "    \n",
    "    clone_walker(box_to_clone,active_box) #copies the ibox from first argument onto the second one.\n",
    "    \n",
    "    new_volume,_ = MC_run(walk_length, move_ratio, active_box)\n",
    "    \n",
    "    \n",
    "#     if new_volume < volume_limit:\n",
    "    if True:\n",
    "        removed_volumes.append(volume_limit)\n",
    "        volumes[index_max] = new_volume #replacing the highest volume walker\n",
    "        clone_walker(active_box, index_max)\n",
    "        \n",
    "\n",
    "        \n",
    "    \n",
    "    \n",
    "\n",
    "    f.value+=1\n",
    "traj.close()"
   ]
  },
  {
   "cell_type": "code",
   "execution_count": null,
   "metadata": {},
   "outputs": [],
   "source": [
    "final_volumes = []\n",
    "for ibox in range(1,nwalkers+1):\n",
    "    final_volumes.append(volumes[ibox])\n",
    "print(final_volumes)"
   ]
  },
  {
   "cell_type": "code",
   "execution_count": null,
   "metadata": {},
   "outputs": [],
   "source": [
    "plt.hist(start_volumes, bins = 100)\n",
    "plt.hist(final_volumes, bins = 100)\n",
    "plt.show()"
   ]
  },
  {
   "cell_type": "markdown",
   "metadata": {},
   "source": [
    "Two approaches to cloning a simulation cell for generating new configurations.\n",
    "\n",
    "1. Write a random configuration to an xyz file, and then load it into an extra empty walker, which will be used to perform trial moves, and then save as an xyz file. Then you can use the highest volume actual walker to load the positions, and continue. Issue is, loading and saving will be the brunt of the calculation.\n",
    "\n",
    "2. Use a numpy array to hold positions (i.e use it as a backup), and then manually change one of the walkers to be the clone, by setting positions and unit cell. Can get very messy, but should be much faster.\n",
    "\n",
    "3. Blend the methods. Use an extra walker to hold the atoms but enter the positions and cell vectors from numpy array"
   ]
  },
  {
   "cell_type": "code",
   "execution_count": null,
   "metadata": {},
   "outputs": [],
   "source": [
    "overlap_check = np.zeros(nwalkers)\n",
    "for ibox in range(1,nwalkers+1):\n",
    "    overlap_check[mdl.alkane_check_chain_overlap(ibox)]\n",
    "print(np.where(overlap_check!=0))\n",
    "#Checks for overlaps in any of the walkers"
   ]
  },
  {
   "cell_type": "code",
   "execution_count": null,
   "metadata": {},
   "outputs": [],
   "source": [
    "atoms = mk_ase_config(6, nbeads, nchains)\n",
    "atoms.wrap()\n",
    "v = vis_chains(atoms)\n",
    "#v = view(atoms,viewer='nglview')\n",
    "v\n"
   ]
  },
  {
   "cell_type": "code",
   "execution_count": null,
   "metadata": {},
   "outputs": [],
   "source": [
    "atoms_traj = ase.io.read(\"hsa_ns.traj\", index = ':')\n",
    "\n",
    "vis_chains(atoms_traj)"
   ]
  },
  {
   "cell_type": "code",
   "execution_count": null,
   "metadata": {},
   "outputs": [],
   "source": [
    "traj.close()"
   ]
  },
  {
   "cell_type": "code",
   "execution_count": null,
   "metadata": {},
   "outputs": [],
   "source": [
    "atoms_traj"
   ]
  },
  {
   "cell_type": "code",
   "execution_count": null,
   "metadata": {},
   "outputs": [],
   "source": [
    "#for rdf stuff\n",
    "def py_rdf(atoms, dr, dim):\n",
    "    from numpy import zeros, sqrt, where, pi, mean, arange, histogram, absolute\n",
    "    r = atoms.positions\n",
    "    S = np.amax(atoms.cell)\n",
    "    num_particles  = len(r)\n",
    "    rMax           = S/2.0\n",
    "    edges          = arange(0, rMax + dr, dr)\n",
    "    num_increments = len(edges) - 1\n",
    "    g              = zeros(num_increments)\n",
    "    radii          = zeros(num_increments)\n",
    "    numberDensity  = len(r) / atoms.get_volume()\n",
    "\n",
    "    # Compute pairwise correlation for each particle\n",
    "    for index in range(num_particles):\n",
    "\n",
    "        d = 0.0\n",
    "        for i in range(dim):\n",
    "            dp = absolute(r[index,i] - r[:,i])\n",
    "            mask = dp>S/2.0\n",
    "            dp[mask] = S - dp[mask]\n",
    "            d += dp*dp\n",
    "\n",
    "        d = sqrt(d)\n",
    "        d[index] = 2 * rMax\n",
    "\n",
    "        (result, bins) = histogram(d, bins=edges, density=False)\n",
    "        g += result\n",
    "\n",
    "    g = g/(num_particles * numberDensity)\n",
    "\n",
    "    # Normalize the g(r) dividing by the g(r) of an ideal gas - in 2D!\n",
    "    if dim == 2:\n",
    "        for i in range(num_increments):\n",
    "            radii[i] = (edges[i] + edges[i+1]) / 2.\n",
    "            rOuter = edges[i + 1]\n",
    "            rInner = edges[i]\n",
    "            g[i] = g[i] / (2.0 * pi * (rOuter-rInner)* radii[i])\n",
    "    \n",
    "    # Needed to compute the 3D g(r) (blue box)\n",
    "    # Normalize the g(r) divinding by the g(r) of an ideal gas - in 3D!\n",
    "    if dim == 3:\n",
    "        for i in range(num_increments):\n",
    "            radii[i] = (edges[i] + edges[i+1]) / 2.\n",
    "            rOuter = edges[i + 1]\n",
    "            rInner = edges[i]\n",
    "            g[i] = g[i] / (4.0 * pi * (rOuter-rInner)* radii[i] * radii[i] )\n",
    "\n",
    "    return (radii, g)"
   ]
  },
  {
   "cell_type": "code",
   "execution_count": null,
   "metadata": {},
   "outputs": [],
   "source": [
    "r = atoms.positions\n",
    "S = 20\n",
    "dim = 3\n",
    "dr = 0.5\n",
    "\n",
    "\n",
    "radii, g = py_rdf(atoms, dr, dim)"
   ]
  },
  {
   "cell_type": "code",
   "execution_count": null,
   "metadata": {},
   "outputs": [],
   "source": [
    "plt.plot(radii,g)\n",
    "plt.show()"
   ]
  },
  {
   "cell_type": "code",
   "execution_count": null,
   "metadata": {},
   "outputs": [],
   "source": [
    "np.trapz(g,radii)"
   ]
  }
 ],
 "metadata": {
  "kernelspec": {
   "display_name": "Python 3",
   "language": "python",
   "name": "python3"
  },
  "language_info": {
   "codemirror_mode": {
    "name": "ipython",
    "version": 3
   },
   "file_extension": ".py",
   "mimetype": "text/x-python",
   "name": "python",
   "nbconvert_exporter": "python",
   "pygments_lexer": "ipython3",
   "version": "3.8.3"
  }
 },
 "nbformat": 4,
 "nbformat_minor": 5
}
