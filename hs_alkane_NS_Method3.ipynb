{
 "cells": [
  {
   "cell_type": "code",
   "execution_count": 2,
   "id": "manual-yellow",
   "metadata": {},
   "outputs": [],
   "source": [
    "import hs_alkane.alkane as mdl\n",
    "import numpy as np\n",
    "\n",
    "# For progress bar\n",
    "from ipywidgets import IntProgress\n",
    "from IPython.display import display\n",
    "import matplotlib.pyplot as plt\n",
    "\n",
    "\n",
    "nwalkers = 10\n",
    "active_box = nwalkers+1\n",
    "nchains = 48\n",
    "nbeads = 1\n",
    "max_vol_per_atom = 15\n",
    "mdl.box_set_num_boxes(nwalkers+1)\n",
    "mdl.box_initialise()\n",
    "mdl.box_set_pbc(1)\n",
    "mdl.alkane_set_nchains(nchains) \n",
    "mdl.alkane_set_nbeads(nbeads)    \n",
    "mdl.alkane_initialise()           \n",
    "mdl.box_set_isotropic(1)\n",
    "mdl.box_set_bypass_link_cells(1) # Bypass use of link cell algorithm for neighbour finding\n",
    "mdl.box_set_use_verlet_list(0)   # Don't use Verlet lists either since CBMC moves quickly invalidate these\n",
    "\n",
    "cell_matrix = np.eye(3)*np.cbrt(nbeads*nchains*max_vol_per_atom)#*np.random.uniform(0,1)\n",
    "for ibox in range(1,nwalkers+1):\n",
    "    mdl.box_set_cell(ibox,cell_matrix)\n",
    "\n",
    "\n",
    "    "
   ]
  },
  {
   "cell_type": "code",
   "execution_count": 3,
   "id": "occupational-wiring",
   "metadata": {},
   "outputs": [],
   "source": [
    "from ase import Atoms\n",
    "from ase.visualize import view\n",
    "import ase\n",
    "\n",
    "def mk_ase_config(ibox, Nbeads, Nchains):\n",
    "    'Uses the current state of the alkane model to construct an ASE atoms object'\n",
    "    \n",
    "    # Create and populate ASE object\n",
    "    model_positions = np.empty([Nchains*Nbeads, 3])\n",
    "    cell_vectors = mdl.box_get_cell(ibox)\n",
    "   \n",
    "    for ichain in range(0, Nchains):\n",
    "        model_positions[Nbeads*ichain:Nbeads*ichain+Nbeads] = mdl.alkane_get_chain(ichain+1, ibox)\n",
    "    \n",
    "    confstring = \"C\"+str(Nbeads*Nchains)\n",
    "    \n",
    "    box_config = Atoms(confstring, positions=model_positions*(1.5/0.4), pbc=True, cell=cell_vectors*(1.5/0.4))\n",
    "\n",
    "\n",
    "    return box_config  # Returns ASE atom object"
   ]
  },
  {
   "cell_type": "code",
   "execution_count": 4,
   "id": "fallen-schema",
   "metadata": {},
   "outputs": [],
   "source": [
    "ncopy = nchains\n",
    "for ibox in range(1,nwalkers+1):\n",
    "    for ichain in range(1,ncopy+1):\n",
    "        rb_factor = 0\n",
    "        mdl.alkane_set_nchains(ichain)\n",
    "        overlap_flag = 1\n",
    "        while overlap_flag != 0:\n",
    "            rb_factor, ifail = mdl.alkane_grow_chain(ichain,ibox,1)         \n",
    "#             if ifail != 0:\n",
    "#                 rb_factor = 0\n",
    "            overlap_flag = mdl.alkane_check_chain_overlap(ibox)\n",
    "\n",
    "        \n"
   ]
  },
  {
   "cell_type": "code",
   "execution_count": 5,
   "id": "found-browse",
   "metadata": {},
   "outputs": [
    {
     "data": {
      "application/vnd.jupyter.widget-view+json": {
       "model_id": "74c616d878dd4a15b4ad7219652e8f77",
       "version_major": 2,
       "version_minor": 0
      },
      "text/plain": []
     },
     "metadata": {},
     "output_type": "display_data"
    },
    {
     "data": {
      "application/vnd.jupyter.widget-view+json": {
       "model_id": "ca006823e82d45f68fd18be35e00686c",
       "version_major": 2,
       "version_minor": 0
      },
      "text/plain": [
       "HBox(children=(NGLWidget(), VBox(children=(Dropdown(description='Show', options=('All', 'C'), value='All'), Dr…"
      ]
     },
     "metadata": {},
     "output_type": "display_data"
    }
   ],
   "source": [
    "atoms = mk_ase_config(10, nbeads, nchains)\n",
    "#atoms = ase.io.read(\"test.traj\")\n",
    "view(atoms, viewer='nglview')\n"
   ]
  },
  {
   "cell_type": "code",
   "execution_count": 6,
   "id": "immune-journalist",
   "metadata": {},
   "outputs": [],
   "source": [
    "mdl.alkane_set_dr_max(0.65)\n",
    "mdl.alkane_set_dt_max(0.43)\n",
    "mdl.alkane_set_dh_max(0.4)\n",
    "mdl.alkane_set_dv_max(0.5)"
   ]
  },
  {
   "cell_type": "code",
   "execution_count": 7,
   "id": "cultural-barrel",
   "metadata": {},
   "outputs": [],
   "source": [
    "def vis_chains(vis_config):\n",
    "    '''Takes an ASE atoms object or list thereof and creates a customised ngl viewer \n",
    "       with appropriate settings for our bulk alkane chain models'''\n",
    "    \n",
    "    met = 0.35\n",
    "    rad = 1.0\n",
    "    \n",
    "    colours = ['#DDDDDD']#['#FF1111','#FFAAAA', '#DDDDDD', '#1111FF', '#AAAAFF']\n",
    "    ncols = len(colours)\n",
    "    \n",
    "    sel=list()\n",
    "    for icol in range(ncols):\n",
    "        sel.append(list())\n",
    "    \n",
    "    # Create lists for each colour\n",
    "    for ichain in range(0, nchains):\n",
    "        icol = ichain%ncols\n",
    "        for ibead in range(nbeads):\n",
    "            iatom = ichain*nbeads + ibead\n",
    "            sel[icol].append(iatom)\n",
    "            \n",
    "    v = view(vis_config, viewer='ngl')                   \n",
    "    v.view.clear_representations()\n",
    "    v.view.add_representation('unitcell', color='#000000')\n",
    "    \n",
    "    for icol in range(ncols):\n",
    "        v.view.add_representation('ball+stick', selection=sel[icol], color=colours[icol], radius=rad, metalness=met)\n",
    "\n",
    "    return v"
   ]
  },
  {
   "cell_type": "code",
   "execution_count": 8,
   "id": "informative-globe",
   "metadata": {},
   "outputs": [],
   "source": [
    "def MC_run(sweeps, move_ratio, ibox):\n",
    "    moves_accepted = np.zeros(4)\n",
    "    moves_attempted = np.zeros(4)\n",
    "    nbeads = mdl.alkane_get_nbeads()\n",
    "    nchains = mdl.alkane_get_nchains()\n",
    "    isweeps = 0\n",
    "    pressure = 100\n",
    "    move_prob = np.cumsum(move_ratio)/np.sum(move_ratio)\n",
    "    while isweeps < sweeps:\n",
    "        imove=0\n",
    "        while imove< 2*nchains+6:\n",
    "            ichain = np.random.randint(1, high=nchains+1) # picks a chain at random\n",
    "            current_chain = mdl.alkane_get_chain(ichain+1, ibox)\n",
    "            backup_chain = current_chain.copy()\n",
    "            xi = np.random.random()\n",
    "            if xi < move_prob[ivol]:\n",
    "                # Attempt a volume move\n",
    "                itype = ivol\n",
    "                boltz = mdl.alkane_box_resize(pressure, ibox, 0)\n",
    "                moves_attempted[itype] += 1\n",
    "            elif xi < move_prob[itrans]:\n",
    "                # Attempt a translation move\n",
    "                itype = itrans\n",
    "                boltz = mdl.alkane_translate_chain(ichain+1, ibox)\n",
    "                moves_attempted[itrans] += 1\n",
    "            elif xi < move_prob[irot]:\n",
    "                # Attempt a rotation move\n",
    "                itype = irot\n",
    "                boltz, quat = mdl.alkane_rotate_chain(ichain+1, ibox, 0)\n",
    "                moves_attempted[itype] += 1\n",
    "            else:\n",
    "                # Attempt a dihedral angle move\n",
    "                itype = idih\n",
    "                boltz, bead1, angle = mdl.alkane_bond_rotate(ichain+1, ibox, 1)\n",
    "                moves_attempted[itype] += 1\n",
    "\n",
    "            if (np.random.random() < boltz):\n",
    "                #accept the move\n",
    "                moves_accepted[itype]+=1\n",
    "\n",
    "            else:\n",
    "                \n",
    "                # Reject move\n",
    "                if (itype!=ivol):\n",
    "                    # Restore old chain if single chain move\n",
    "                    for ibead in range(nbeads):\n",
    "                        current_chain[ibead] = backup_chain[ibead]\n",
    "                else:\n",
    "                    # Reset the box change - special fucntion for this.\n",
    "                    dumboltz = mdl.alkane_box_resize(pressure, ibox, 1)\n",
    "\n",
    "\n",
    "                imove += 1\n",
    "            isweeps +=1\n",
    "    moves_attempted = np.where(moves_attempted == 0, 1, moves_attempted)\n",
    "    moves_acceptance_rate = moves_accepted/moves_attempted\n",
    "\n",
    "    return mdl.box_compute_volume(ibox), moves_acceptance_rate"
   ]
  },
  {
   "cell_type": "code",
   "execution_count": 9,
   "id": "leading-settle",
   "metadata": {},
   "outputs": [],
   "source": [
    "move_types = ['box','translate', 'rotate', 'dihedral']\n",
    "ivol = 0; itrans = 1; irot = 2; idih = 3\n",
    "move_ratio = np.zeros(4)\n",
    "move_ratio[ivol] = 6\n",
    "move_ratio[itrans] = 3.0*nchains\n",
    "#moves_ratio[irot] = 2.0*nchains\n",
    "#moves_ratio[idih] = 1.0*nchains\n",
    "#moves_prob = np.cumsum(moves_ratio)/np.sum(moves_ratio)\n",
    "walk_length = 5000\n"
   ]
  },
  {
   "cell_type": "code",
   "execution_count": 10,
   "id": "nasty-blair",
   "metadata": {},
   "outputs": [],
   "source": [
    "volumes = {}\n",
    "for ibox in range(1,nwalkers+1):\n",
    "    volumes[ibox], rate = MC_run(walk_length, move_ratio, ibox)\n"
   ]
  },
  {
   "cell_type": "code",
   "execution_count": 18,
   "id": "hundred-emergency",
   "metadata": {},
   "outputs": [
    {
     "name": "stdout",
     "output_type": "stream",
     "text": [
      "(array([], dtype=int64),)\n"
     ]
    }
   ],
   "source": [
    "overlap_check = np.zeros(nwalkers)\n",
    "for ibox in range(1,nwalkers+1):\n",
    "    overlap_check[mdl.alkane_check_chain_overlap(ibox)]\n",
    "print(np.where(overlap_check!=0))"
   ]
  },
  {
   "cell_type": "code",
   "execution_count": 11,
   "id": "extended-bookmark",
   "metadata": {},
   "outputs": [
    {
     "data": {
      "application/vnd.jupyter.widget-view+json": {
       "model_id": "f313027d7ea94dbbb3266de0b3f4d87b",
       "version_major": 2,
       "version_minor": 0
      },
      "text/plain": [
       "HBox(children=(NGLWidget(), VBox(children=(Dropdown(description='Show', options=('All', 'C'), value='All'), Dr…"
      ]
     },
     "metadata": {},
     "output_type": "display_data"
    }
   ],
   "source": [
    "atoms = mk_ase_config(6, nbeads, nchains)\n",
    "atoms.wrap()\n",
    "view(atoms, viewer = 'nglview')"
   ]
  },
  {
   "cell_type": "code",
   "execution_count": 12,
   "id": "humanitarian-arena",
   "metadata": {},
   "outputs": [],
   "source": [
    "def clone_walker(ibox_original,ibox_clone):\n",
    "    equil_factor = 2\n",
    "    cell = mdl.box_get_cell(ibox_original)\n",
    "    mdl.box_set_cell(ibox_clone,cell)\n",
    "    for ichain in range(1,nchains+1):\n",
    "        original_chain = mdl.alkane_get_chain(ichain,ibox_original)\n",
    "        original_chain_copy = original_chain.copy()\n",
    "        clone_chain = mdl.alkane_get_chain(ichain,ibox_clone)\n",
    "        for i in range(nbeads):\n",
    "            clone_chain[i][:] = original_chain_copy[i][:]\n",
    "            "
   ]
  },
  {
   "cell_type": "code",
   "execution_count": 13,
   "id": "cheap-darwin",
   "metadata": {},
   "outputs": [],
   "source": [
    "def adjust_dv(ibox,active_box, lower_bound,upper_bound):\n",
    "    equil_factor = 2\n",
    "    sweeps = 100\n",
    "    move_ratio = [1,0,0,0]\n",
    "    clone_walker(ibox,active_box)\n",
    "    vol,acceptance_rate = MC_run(sweeps, move_ratio, active_box)\n",
    "    \n",
    "    r = acceptance_rate[ivol]\n",
    "    \n",
    "    if r < lower_bound:\n",
    "        mdl.alkane_set_dv_max(mdl.alkane_get_dr_max()/equil_factor)\n",
    "    elif r > upper_bound:\n",
    "        mdl.alkane_set_dv_max(mdl.alkane_get_dr_max()*equil_factor)\n",
    "\n",
    "    "
   ]
  },
  {
   "cell_type": "code",
   "execution_count": 14,
   "id": "regulation-recorder",
   "metadata": {},
   "outputs": [],
   "source": [
    "def adjust_dr(ibox,active_box, lower_bound,upper_bound):\n",
    "    equil_factor = 2\n",
    "    sweeps = 100\n",
    "    move_ratio = [0,1,0,0]\n",
    "    clone_walker(ibox,active_box)\n",
    "    vol,acceptance_rate = MC_run(sweeps, move_ratio, active_box)\n",
    "    \n",
    "    r = acceptance_rate[itrans]\n",
    "    \n",
    "    if r < lower_bound:\n",
    "        mdl.alkane_set_dr_max(mdl.alkane_get_dr_max()/equil_factor)\n",
    "    elif r > upper_bound:\n",
    "        mdl.alkane_set_dr_max(mdl.alkane_get_dr_max()*equil_factor)\n",
    "    return r\n",
    "\n",
    "    "
   ]
  },
  {
   "cell_type": "code",
   "execution_count": 15,
   "id": "vertical-judge",
   "metadata": {},
   "outputs": [],
   "source": [
    "def adjust_dt(ibox,active_box, lower_bound,upper_bound):\n",
    "    equil_factor = 2\n",
    "    sweeps = 100\n",
    "    move_ratio = [0,0,1,0]\n",
    "    clone_walker(ibox,active_box)\n",
    "    vol,acceptance_rate = MC_run(sweeps, move_ratio, active_box)\n",
    "    \n",
    "    r = acceptance_rate[irot]\n",
    "    \n",
    "    if r < lower_bound:\n",
    "        mdl.alkane_set_dt_max(mdl.alkane_get_dr_max()/equil_factor)\n",
    "    elif r > upper_bound:\n",
    "        mdl.alkane_set_dt_max(mdl.alkane_get_dr_max()*equil_factor)\n",
    "\n",
    "    "
   ]
  },
  {
   "cell_type": "code",
   "execution_count": 16,
   "id": "balanced-question",
   "metadata": {},
   "outputs": [],
   "source": [
    "def adjust_dh(ibox,active_box, lower_bound,upper_bound):\n",
    "    equil_factor = 2\n",
    "    sweeps = 100\n",
    "    move_ratio = [0,0,0,1]\n",
    "    clone_walker(ibox,active_box)\n",
    "    vol,acceptance_rate = MC_run(sweeps, move_ratio, active_box)\n",
    "    \n",
    "    r = acceptance_rate[idih]\n",
    "    \n",
    "    if r < lower_bound:\n",
    "        mdl.alkane_set_dr_max(mdl.alkane_get_dh_max()/equil_factor)\n",
    "    elif r > upper_bound:\n",
    "        mdl.alkane_set_dr_max(mdl.alkane_get_dh_max()*equil_factor)\n",
    "\n",
    "    "
   ]
  },
  {
   "cell_type": "code",
   "execution_count": 17,
   "id": "genuine-prediction",
   "metadata": {
    "scrolled": true
   },
   "outputs": [
    {
     "data": {
      "application/vnd.jupyter.widget-view+json": {
       "model_id": "132773d868a94a0a864c5a04f1f376e2",
       "version_major": 2,
       "version_minor": 0
      },
      "text/plain": [
       "IntProgress(value=0)"
      ]
     },
     "metadata": {},
     "output_type": "display_data"
    },
    {
     "name": "stdout",
     "output_type": "stream",
     "text": [
      "699.9393339557587 0.8831615120274914\n",
      "699.8944161582759 0.8297161936560935\n",
      "699.4405964834059 0.7397959183673469\n",
      "696.4424494121429 0.7763157894736842\n",
      "696.4308718453542 0.7166666666666667\n",
      "694.5200202740715 0.7391304347826086\n",
      "692.7941904955337 0.7493857493857494\n",
      "691.0011476739659 0.71900826446281\n",
      "690.2177152843528 0.7134831460674157\n",
      "690.2118396275471 0.5486725663716814\n",
      "688.5005728270224 0.6277372262773723\n",
      "682.735006715006 0.7611241217798594\n",
      "679.3989916298821 0.5952380952380952\n",
      "676.4981667079268 0.7250673854447439\n"
     ]
    },
    {
     "ename": "KeyboardInterrupt",
     "evalue": "",
     "output_type": "error",
     "traceback": [
      "\u001b[0;31m---------------------------------------------------------------------------\u001b[0m",
      "\u001b[0;31mKeyboardInterrupt\u001b[0m                         Traceback (most recent call last)",
      "\u001b[0;32m<ipython-input-17-3197651c294e>\u001b[0m in \u001b[0;36m<module>\u001b[0;34m\u001b[0m\n\u001b[1;32m     19\u001b[0m     \u001b[0;32mif\u001b[0m \u001b[0mns_iterations\u001b[0m\u001b[0;34m%\u001b[0m\u001b[0mmc_adjust_interval\u001b[0m \u001b[0;34m==\u001b[0m \u001b[0;36m0\u001b[0m\u001b[0;34m:\u001b[0m\u001b[0;34m\u001b[0m\u001b[0;34m\u001b[0m\u001b[0m\n\u001b[1;32m     20\u001b[0m         \u001b[0madjust_dv\u001b[0m\u001b[0;34m(\u001b[0m\u001b[0mclone\u001b[0m\u001b[0;34m,\u001b[0m\u001b[0mactive_box\u001b[0m\u001b[0;34m,\u001b[0m\u001b[0mlow_acc_rate\u001b[0m\u001b[0;34m,\u001b[0m\u001b[0mhigh_acc_rate\u001b[0m\u001b[0;34m)\u001b[0m\u001b[0;34m\u001b[0m\u001b[0;34m\u001b[0m\u001b[0m\n\u001b[0;32m---> 21\u001b[0;31m         \u001b[0mr\u001b[0m \u001b[0;34m=\u001b[0m \u001b[0madjust_dr\u001b[0m\u001b[0;34m(\u001b[0m\u001b[0mclone\u001b[0m\u001b[0;34m,\u001b[0m\u001b[0mactive_box\u001b[0m\u001b[0;34m,\u001b[0m\u001b[0mlow_acc_rate\u001b[0m\u001b[0;34m,\u001b[0m\u001b[0mhigh_acc_rate\u001b[0m\u001b[0;34m)\u001b[0m\u001b[0;34m\u001b[0m\u001b[0;34m\u001b[0m\u001b[0m\n\u001b[0m\u001b[1;32m     22\u001b[0m \u001b[0;31m#         adjust_dt(clone,active_box,low_acc_rate,high_acc_rate)\u001b[0m\u001b[0;34m\u001b[0m\u001b[0;34m\u001b[0m\u001b[0;34m\u001b[0m\u001b[0m\n\u001b[1;32m     23\u001b[0m \u001b[0;31m#         adjust_dh(clone,active_box,low_acc_rate,high_acc_rate)\u001b[0m\u001b[0;34m\u001b[0m\u001b[0;34m\u001b[0m\u001b[0;34m\u001b[0m\u001b[0m\n",
      "\u001b[0;32m<ipython-input-14-17489ae54eb1>\u001b[0m in \u001b[0;36madjust_dr\u001b[0;34m(ibox, active_box, lower_bound, upper_bound)\u001b[0m\n\u001b[1;32m      4\u001b[0m     \u001b[0mmove_ratio\u001b[0m \u001b[0;34m=\u001b[0m \u001b[0;34m[\u001b[0m\u001b[0;36m0\u001b[0m\u001b[0;34m,\u001b[0m\u001b[0;36m1\u001b[0m\u001b[0;34m,\u001b[0m\u001b[0;36m0\u001b[0m\u001b[0;34m,\u001b[0m\u001b[0;36m0\u001b[0m\u001b[0;34m]\u001b[0m\u001b[0;34m\u001b[0m\u001b[0;34m\u001b[0m\u001b[0m\n\u001b[1;32m      5\u001b[0m     \u001b[0mclone_walker\u001b[0m\u001b[0;34m(\u001b[0m\u001b[0mibox\u001b[0m\u001b[0;34m,\u001b[0m\u001b[0mactive_box\u001b[0m\u001b[0;34m)\u001b[0m\u001b[0;34m\u001b[0m\u001b[0;34m\u001b[0m\u001b[0m\n\u001b[0;32m----> 6\u001b[0;31m     \u001b[0mvol\u001b[0m\u001b[0;34m,\u001b[0m\u001b[0macceptance_rate\u001b[0m \u001b[0;34m=\u001b[0m \u001b[0mMC_run\u001b[0m\u001b[0;34m(\u001b[0m\u001b[0msweeps\u001b[0m\u001b[0;34m,\u001b[0m \u001b[0mmove_ratio\u001b[0m\u001b[0;34m,\u001b[0m \u001b[0mactive_box\u001b[0m\u001b[0;34m)\u001b[0m\u001b[0;34m\u001b[0m\u001b[0;34m\u001b[0m\u001b[0m\n\u001b[0m\u001b[1;32m      7\u001b[0m \u001b[0;34m\u001b[0m\u001b[0m\n\u001b[1;32m      8\u001b[0m     \u001b[0mr\u001b[0m \u001b[0;34m=\u001b[0m \u001b[0macceptance_rate\u001b[0m\u001b[0;34m[\u001b[0m\u001b[0mitrans\u001b[0m\u001b[0;34m]\u001b[0m\u001b[0;34m\u001b[0m\u001b[0;34m\u001b[0m\u001b[0m\n",
      "\u001b[0;32m<ipython-input-8-97a90348e743>\u001b[0m in \u001b[0;36mMC_run\u001b[0;34m(sweeps, move_ratio, ibox)\u001b[0m\n\u001b[1;32m     35\u001b[0m                 \u001b[0mmoves_attempted\u001b[0m\u001b[0;34m[\u001b[0m\u001b[0mitype\u001b[0m\u001b[0;34m]\u001b[0m \u001b[0;34m+=\u001b[0m \u001b[0;36m1\u001b[0m\u001b[0;34m\u001b[0m\u001b[0;34m\u001b[0m\u001b[0m\n\u001b[1;32m     36\u001b[0m \u001b[0;34m\u001b[0m\u001b[0m\n\u001b[0;32m---> 37\u001b[0;31m             \u001b[0;32mif\u001b[0m \u001b[0;34m(\u001b[0m\u001b[0mnp\u001b[0m\u001b[0;34m.\u001b[0m\u001b[0mrandom\u001b[0m\u001b[0;34m.\u001b[0m\u001b[0mrandom\u001b[0m\u001b[0;34m(\u001b[0m\u001b[0;34m)\u001b[0m \u001b[0;34m<\u001b[0m \u001b[0mboltz\u001b[0m\u001b[0;34m)\u001b[0m\u001b[0;34m:\u001b[0m\u001b[0;34m\u001b[0m\u001b[0;34m\u001b[0m\u001b[0m\n\u001b[0m\u001b[1;32m     38\u001b[0m                 \u001b[0;31m#accept the move\u001b[0m\u001b[0;34m\u001b[0m\u001b[0;34m\u001b[0m\u001b[0;34m\u001b[0m\u001b[0m\n\u001b[1;32m     39\u001b[0m                 \u001b[0mmoves_accepted\u001b[0m\u001b[0;34m[\u001b[0m\u001b[0mitype\u001b[0m\u001b[0;34m]\u001b[0m\u001b[0;34m+=\u001b[0m\u001b[0;36m1\u001b[0m\u001b[0;34m\u001b[0m\u001b[0;34m\u001b[0m\u001b[0m\n",
      "\u001b[0;31mKeyboardInterrupt\u001b[0m: "
     ]
    }
   ],
   "source": [
    "ns_iterations = 100\n",
    "walk_length = 500\n",
    "\n",
    "mc_adjust_interval = 50 #for adjusting step sizes\n",
    "low_acc_rate = 0.2\n",
    "high_acc_rate = 0.5\n",
    "\n",
    "\n",
    "f = IntProgress(min=0, max=ns_iterations) \n",
    "display(f) # display the bar\n",
    "\n",
    "for i in range(ns_iterations):\n",
    "    index_max = max(volumes, key=volumes.get)\n",
    "    volume_limit = volumes[index_max]\n",
    "    clone = np.random.randint(1,nwalkers)\n",
    "    \n",
    "\n",
    "    \n",
    "    if ns_iterations%mc_adjust_interval == 0:\n",
    "        adjust_dv(clone,active_box,low_acc_rate,high_acc_rate)\n",
    "        r = adjust_dr(clone,active_box,low_acc_rate,high_acc_rate)\n",
    "#         adjust_dt(clone,active_box,low_acc_rate,high_acc_rate)\n",
    "#         adjust_dh(clone,active_box,low_acc_rate,high_acc_rate)\n",
    "    print(volume_limit,r)\n",
    "    \n",
    "    clone_walker(clone,active_box) #copies the ibox from first argument onto the second one.\n",
    "    \n",
    "    new_volume,_ = MC_run(walk_length, move_ratio, active_box)\n",
    "    \n",
    "    volumes[index_max] = new_volume #replacing the highest volume walker\n",
    "    clone_walker(active_box, index_max)\n",
    "\n",
    "        \n",
    "    \n",
    "    \n",
    "\n",
    "    f.value+=1"
   ]
  },
  {
   "cell_type": "markdown",
   "id": "immune-celebrity",
   "metadata": {},
   "source": [
    "Two approaches to cloning a simulation cell for generating new configurations.\n",
    "\n",
    "1. Write a random configuration to an xyz file, and then load it into an extra empty walker, which will be used to perform trial moves, and then save as an xyz file. Then you can use the highest volume actual walker to load the positions, and continue. Issue is, loading and saving will be the brunt of the calculation.\n",
    "\n",
    "2. Use a numpy array to hold positions (i.e use it as a backup), and then manually change one of the walkers to be the clone, by setting positions and unit cell. Can get very messy, but should be much faster.\n",
    "\n",
    "3. Blend the methods. Use an extra walker to hold the atoms but enter the positions and cell vectors from numpy array"
   ]
  },
  {
   "cell_type": "code",
   "execution_count": null,
   "id": "occupied-fisher",
   "metadata": {},
   "outputs": [],
   "source": [
    "atoms = mk_ase_config(2, nbeads, nchains)\n",
    "atoms.wrap()\n",
    "v = vis_chains(atoms)\n",
    "#v = view(atoms,viewer='nglview')\n",
    "v"
   ]
  },
  {
   "cell_type": "code",
   "execution_count": null,
   "id": "fourth-seven",
   "metadata": {},
   "outputs": [],
   "source": [
    "overlap_check = np.zeros(nwalkers)\n",
    "for ibox in range(1,nwalkers+1):\n",
    "    overlap_check[mdl.alkane_check_chain_overlap(ibox)]\n",
    "print(np.where(overlap_check!=0))"
   ]
  },
  {
   "cell_type": "code",
   "execution_count": null,
   "id": "celtic-weekend",
   "metadata": {},
   "outputs": [],
   "source": [
    "def py_rdf(atoms, dr, dim):\n",
    "    from numpy import zeros, sqrt, where, pi, mean, arange, histogram, absolute\n",
    "    r = atoms.positions\n",
    "    S = np.amax(atoms.cell)\n",
    "    num_particles  = len(r)\n",
    "    rMax           = S/2.0\n",
    "    edges          = arange(0, rMax + dr, dr)\n",
    "    num_increments = len(edges) - 1\n",
    "    g              = zeros(num_increments)\n",
    "    radii          = zeros(num_increments)\n",
    "    numberDensity  = len(r) / atoms.get_volume()\n",
    "\n",
    "    # Compute pairwise correlation for each particle\n",
    "    for index in range(num_particles):\n",
    "\n",
    "        d = 0.0\n",
    "        for i in range(dim):\n",
    "            dp = absolute(r[index,i] - r[:,i])\n",
    "            mask = dp>S/2.0\n",
    "            dp[mask] = S - dp[mask]\n",
    "            d += dp*dp\n",
    "\n",
    "        d = sqrt(d)\n",
    "        d[index] = 2 * rMax\n",
    "\n",
    "        (result, bins) = histogram(d, bins=edges, density=False)\n",
    "        g += result\n",
    "\n",
    "    g = g/(num_particles * numberDensity)\n",
    "\n",
    "    # Normalize the g(r) dividing by the g(r) of an ideal gas - in 2D!\n",
    "    if dim == 2:\n",
    "        for i in range(num_increments):\n",
    "            radii[i] = (edges[i] + edges[i+1]) / 2.\n",
    "            rOuter = edges[i + 1]\n",
    "            rInner = edges[i]\n",
    "            g[i] = g[i] / (2.0 * pi * (rOuter-rInner)* radii[i])\n",
    "    \n",
    "    # Needed to compute the 3D g(r) (blue box)\n",
    "    # Normalize the g(r) divinding by the g(r) of an ideal gas - in 3D!\n",
    "    if dim == 3:\n",
    "        for i in range(num_increments):\n",
    "            radii[i] = (edges[i] + edges[i+1]) / 2.\n",
    "            rOuter = edges[i + 1]\n",
    "            rInner = edges[i]\n",
    "            g[i] = g[i] / (4.0 * pi * (rOuter-rInner)* radii[i] * radii[i] )\n",
    "\n",
    "    return (radii, g)"
   ]
  },
  {
   "cell_type": "code",
   "execution_count": null,
   "id": "conservative-canon",
   "metadata": {},
   "outputs": [],
   "source": [
    "r = atoms.positions\n",
    "S = 20\n",
    "dim = 3\n",
    "dr = 0.1\n",
    "\n",
    "\n",
    "radii, g = py_rdf(atoms, dr, dim)"
   ]
  },
  {
   "cell_type": "code",
   "execution_count": null,
   "id": "japanese-fireplace",
   "metadata": {},
   "outputs": [],
   "source": [
    "plt.plot(radii,g)\n",
    "plt.show()"
   ]
  }
 ],
 "metadata": {
  "kernelspec": {
   "display_name": "Python 3",
   "language": "python",
   "name": "python3"
  },
  "language_info": {
   "codemirror_mode": {
    "name": "ipython",
    "version": 3
   },
   "file_extension": ".py",
   "mimetype": "text/x-python",
   "name": "python",
   "nbconvert_exporter": "python",
   "pygments_lexer": "ipython3",
   "version": "3.8.5"
  }
 },
 "nbformat": 4,
 "nbformat_minor": 5
}
